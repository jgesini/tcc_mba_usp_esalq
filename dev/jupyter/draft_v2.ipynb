{
 "cells": [
  {
   "cell_type": "code",
   "execution_count": 1,
   "id": "52d6bd5f",
   "metadata": {},
   "outputs": [],
   "source": [
    "import csv\n",
    "import pandas as pd"
   ]
  },
  {
   "cell_type": "code",
   "execution_count": 2,
   "id": "36013147",
   "metadata": {},
   "outputs": [],
   "source": [
    "#para todos retornos de execução de códigos sejam apresentados\n",
    "from IPython.core.interactiveshell import InteractiveShell\n",
    "InteractiveShell.ast_node_interactivity = \"all\""
   ]
  },
  {
   "cell_type": "markdown",
   "id": "ccb0fb47",
   "metadata": {},
   "source": [
    "# Definição das colunas de acordo com o leiaute fornecido pela B3"
   ]
  },
  {
   "cell_type": "code",
   "execution_count": 3,
   "id": "cc459868",
   "metadata": {
    "scrolled": true
   },
   "outputs": [
    {
     "data": {
      "text/plain": [
       "26"
      ]
     },
     "execution_count": 3,
     "metadata": {},
     "output_type": "execute_result"
    },
    {
     "data": {
      "text/plain": [
       "26"
      ]
     },
     "execution_count": 3,
     "metadata": {},
     "output_type": "execute_result"
    }
   ],
   "source": [
    "# nomes das colunas\n",
    "nm_colunas = [\n",
    "    'TIPREG',\n",
    "    'DTPREG',\n",
    "    'CODBDI',\n",
    "    'CODNEG',\n",
    "    'TPMERC',\n",
    "    'NOMRES',\n",
    "    'ESPECI',\n",
    "    'PRAZOT',\n",
    "    'MODREF',\n",
    "    'PREABE',\n",
    "    'PREMAX',\n",
    "    'PREMIN',\n",
    "    'PREMED',\n",
    "    'PREULT',\n",
    "    'PREOFC',\n",
    "    'PREOFV',\n",
    "    'TOTNEG',\n",
    "    'QUATOT',\n",
    "    'VOLTOT',\n",
    "    'PREEXE',\n",
    "    'INDOPC',\n",
    "    'DATVEN',\n",
    "    'FATCOT',\n",
    "    'PTOEXE',\n",
    "    'CODISI',\n",
    "    'DISMES'    \n",
    "]\n",
    "\n",
    "#tamanho das colunas\n",
    "tam_colunas = [\n",
    "    2,8,2,12,3,12,10,3,4,11,11,11,11,11,11,11,5,18,16,11,1,8,7,7,12,3    \n",
    "]\n",
    "\n",
    "len(tam_colunas)\n",
    "len(nm_colunas)\n"
   ]
  },
  {
   "cell_type": "code",
   "execution_count": 21,
   "id": "b493ed96",
   "metadata": {},
   "outputs": [],
   "source": [
    "\n"
   ]
  },
  {
   "cell_type": "markdown",
   "id": "638ecce0",
   "metadata": {},
   "source": [
    "# Carregando os arquivos da B3"
   ]
  },
  {
   "cell_type": "code",
   "execution_count": 4,
   "id": "57421a62",
   "metadata": {
    "scrolled": false
   },
   "outputs": [
    {
     "data": {
      "text/plain": [
       "['..\\\\..\\\\data\\\\2015.TXT',\n",
       " '..\\\\..\\\\data\\\\2016.TXT',\n",
       " '..\\\\..\\\\data\\\\2017.TXT',\n",
       " '..\\\\..\\\\data\\\\2018.TXT',\n",
       " '..\\\\..\\\\data\\\\2019.TXT',\n",
       " '..\\\\..\\\\data\\\\2020.TXT',\n",
       " '..\\\\..\\\\data\\\\2021.TXT']"
      ]
     },
     "execution_count": 4,
     "metadata": {},
     "output_type": "execute_result"
    }
   ],
   "source": [
    "import glob as gl\n",
    "\n",
    "#df = pd.read_fwf('../../data/demo.txt',widths=tam_colunas, names=nm_colunas, skiprows=1, skipfooter=1)\n",
    "#df = pd.read_fwf('..\\\\..\\\\data\\\\2020.txt',widths=tam_colunas, names=nm_colunas, skiprows=1, skipfooter=1)\n",
    "#df = pd.read_fwf('..\\\\..\\\\data\\\\2020.txt',widths=tam_colunas, names=nm_colunas, skiprows=1, skipfooter=1)\n",
    "\n",
    "lista_arq = gl.glob('..\\\\..\\\\data\\\\20*.txt')\n",
    "lista_arq\n",
    "\n",
    "df = pd.concat([pd.read_fwf(f,widths=tam_colunas, names=nm_colunas, skiprows=1, skipfooter=1) for f in lista_arq])"
   ]
  },
  {
   "cell_type": "markdown",
   "id": "4e8db19f",
   "metadata": {},
   "source": [
    "# Verificando a existência de valores \"NaN\" que possam prejudicar a análise"
   ]
  },
  {
   "cell_type": "code",
   "execution_count": 5,
   "id": "ea527aa7",
   "metadata": {},
   "outputs": [
    {
     "data": {
      "text/plain": [
       "TIPREG    False\n",
       "DTPREG    False\n",
       "CODBDI    False\n",
       "CODNEG    False\n",
       "TPMERC    False\n",
       "NOMRES    False\n",
       "ESPECI    False\n",
       "PRAZOT     True\n",
       "MODREF    False\n",
       "PREABE    False\n",
       "PREMAX    False\n",
       "PREMIN    False\n",
       "PREMED    False\n",
       "PREULT    False\n",
       "PREOFC    False\n",
       "PREOFV    False\n",
       "TOTNEG    False\n",
       "QUATOT    False\n",
       "VOLTOT    False\n",
       "PREEXE    False\n",
       "INDOPC    False\n",
       "DATVEN    False\n",
       "FATCOT    False\n",
       "PTOEXE    False\n",
       "CODISI    False\n",
       "DISMES    False\n",
       "dtype: bool"
      ]
     },
     "execution_count": 5,
     "metadata": {},
     "output_type": "execute_result"
    }
   ],
   "source": [
    "#df[df.isna().any(axis=1)] -> para selecionar as linhas contendo valores NaN  \n",
    "df.isna().any() \n",
    "\n",
    "#somente PRAZOTOT possui NaN, não havendo necessidade de nenhum tipo de tratamento. Essa variável somente faz sentido para \n",
    "#mercado a termo, cujas observações não serão utilizadas neste modelo"
   ]
  },
  {
   "cell_type": "markdown",
   "id": "290ce60f",
   "metadata": {},
   "source": [
    "# Filtros de ativos"
   ]
  },
  {
   "cell_type": "code",
   "execution_count": 6,
   "id": "88bcbcd7",
   "metadata": {},
   "outputs": [
    {
     "data": {
      "text/plain": [
       "array([ 2, 96, 12, 62, 78, 82, 14,  8, 74, 75, 58, 10, 38, 22, 42, 32, 33,\n",
       "       50, 46, 52, 51,  5,  7, 13], dtype=int64)"
      ]
     },
     "execution_count": 6,
     "metadata": {},
     "output_type": "execute_result"
    },
    {
     "data": {
      "text/html": [
       "<div>\n",
       "<style scoped>\n",
       "    .dataframe tbody tr th:only-of-type {\n",
       "        vertical-align: middle;\n",
       "    }\n",
       "\n",
       "    .dataframe tbody tr th {\n",
       "        vertical-align: top;\n",
       "    }\n",
       "\n",
       "    .dataframe thead th {\n",
       "        text-align: right;\n",
       "    }\n",
       "</style>\n",
       "<table border=\"1\" class=\"dataframe\">\n",
       "  <thead>\n",
       "    <tr style=\"text-align: right;\">\n",
       "      <th></th>\n",
       "      <th>TIPREG</th>\n",
       "      <th>DTPREG</th>\n",
       "      <th>CODNEG</th>\n",
       "      <th>TPMERC</th>\n",
       "      <th>NOMRES</th>\n",
       "      <th>ESPECI</th>\n",
       "      <th>PRAZOT</th>\n",
       "      <th>MODREF</th>\n",
       "      <th>PREABE</th>\n",
       "      <th>PREMAX</th>\n",
       "      <th>...</th>\n",
       "      <th>TOTNEG</th>\n",
       "      <th>QUATOT</th>\n",
       "      <th>VOLTOT</th>\n",
       "      <th>PREEXE</th>\n",
       "      <th>INDOPC</th>\n",
       "      <th>DATVEN</th>\n",
       "      <th>FATCOT</th>\n",
       "      <th>PTOEXE</th>\n",
       "      <th>CODISI</th>\n",
       "      <th>DISMES</th>\n",
       "    </tr>\n",
       "    <tr>\n",
       "      <th>CODBDI</th>\n",
       "      <th></th>\n",
       "      <th></th>\n",
       "      <th></th>\n",
       "      <th></th>\n",
       "      <th></th>\n",
       "      <th></th>\n",
       "      <th></th>\n",
       "      <th></th>\n",
       "      <th></th>\n",
       "      <th></th>\n",
       "      <th></th>\n",
       "      <th></th>\n",
       "      <th></th>\n",
       "      <th></th>\n",
       "      <th></th>\n",
       "      <th></th>\n",
       "      <th></th>\n",
       "      <th></th>\n",
       "      <th></th>\n",
       "      <th></th>\n",
       "      <th></th>\n",
       "    </tr>\n",
       "  </thead>\n",
       "  <tbody>\n",
       "    <tr>\n",
       "      <th>2</th>\n",
       "      <td>733407</td>\n",
       "      <td>733407</td>\n",
       "      <td>733407</td>\n",
       "      <td>733407</td>\n",
       "      <td>733407</td>\n",
       "      <td>733407</td>\n",
       "      <td>0</td>\n",
       "      <td>733407</td>\n",
       "      <td>733407</td>\n",
       "      <td>733407</td>\n",
       "      <td>...</td>\n",
       "      <td>733407</td>\n",
       "      <td>733407</td>\n",
       "      <td>733407</td>\n",
       "      <td>733407</td>\n",
       "      <td>733407</td>\n",
       "      <td>733407</td>\n",
       "      <td>733407</td>\n",
       "      <td>733407</td>\n",
       "      <td>733407</td>\n",
       "      <td>733407</td>\n",
       "    </tr>\n",
       "    <tr>\n",
       "      <th>5</th>\n",
       "      <td>2290</td>\n",
       "      <td>2290</td>\n",
       "      <td>2290</td>\n",
       "      <td>2290</td>\n",
       "      <td>2290</td>\n",
       "      <td>2290</td>\n",
       "      <td>0</td>\n",
       "      <td>2290</td>\n",
       "      <td>2290</td>\n",
       "      <td>2290</td>\n",
       "      <td>...</td>\n",
       "      <td>2290</td>\n",
       "      <td>2290</td>\n",
       "      <td>2290</td>\n",
       "      <td>2290</td>\n",
       "      <td>2290</td>\n",
       "      <td>2290</td>\n",
       "      <td>2290</td>\n",
       "      <td>2290</td>\n",
       "      <td>2290</td>\n",
       "      <td>2290</td>\n",
       "    </tr>\n",
       "    <tr>\n",
       "      <th>7</th>\n",
       "      <td>2484</td>\n",
       "      <td>2484</td>\n",
       "      <td>2484</td>\n",
       "      <td>2484</td>\n",
       "      <td>2484</td>\n",
       "      <td>2484</td>\n",
       "      <td>0</td>\n",
       "      <td>2484</td>\n",
       "      <td>2484</td>\n",
       "      <td>2484</td>\n",
       "      <td>...</td>\n",
       "      <td>2484</td>\n",
       "      <td>2484</td>\n",
       "      <td>2484</td>\n",
       "      <td>2484</td>\n",
       "      <td>2484</td>\n",
       "      <td>2484</td>\n",
       "      <td>2484</td>\n",
       "      <td>2484</td>\n",
       "      <td>2484</td>\n",
       "      <td>2484</td>\n",
       "    </tr>\n",
       "    <tr>\n",
       "      <th>8</th>\n",
       "      <td>34348</td>\n",
       "      <td>34348</td>\n",
       "      <td>34348</td>\n",
       "      <td>34348</td>\n",
       "      <td>34348</td>\n",
       "      <td>34348</td>\n",
       "      <td>0</td>\n",
       "      <td>34348</td>\n",
       "      <td>34348</td>\n",
       "      <td>34348</td>\n",
       "      <td>...</td>\n",
       "      <td>34348</td>\n",
       "      <td>34348</td>\n",
       "      <td>34348</td>\n",
       "      <td>34348</td>\n",
       "      <td>34348</td>\n",
       "      <td>34348</td>\n",
       "      <td>34348</td>\n",
       "      <td>34348</td>\n",
       "      <td>34348</td>\n",
       "      <td>34348</td>\n",
       "    </tr>\n",
       "    <tr>\n",
       "      <th>10</th>\n",
       "      <td>5951</td>\n",
       "      <td>5951</td>\n",
       "      <td>5951</td>\n",
       "      <td>5951</td>\n",
       "      <td>5951</td>\n",
       "      <td>5951</td>\n",
       "      <td>0</td>\n",
       "      <td>5951</td>\n",
       "      <td>5951</td>\n",
       "      <td>5951</td>\n",
       "      <td>...</td>\n",
       "      <td>5951</td>\n",
       "      <td>5951</td>\n",
       "      <td>5951</td>\n",
       "      <td>5951</td>\n",
       "      <td>5951</td>\n",
       "      <td>5951</td>\n",
       "      <td>5951</td>\n",
       "      <td>5951</td>\n",
       "      <td>5951</td>\n",
       "      <td>5951</td>\n",
       "    </tr>\n",
       "    <tr>\n",
       "      <th>12</th>\n",
       "      <td>224979</td>\n",
       "      <td>224979</td>\n",
       "      <td>224979</td>\n",
       "      <td>224979</td>\n",
       "      <td>224979</td>\n",
       "      <td>224979</td>\n",
       "      <td>0</td>\n",
       "      <td>224979</td>\n",
       "      <td>224979</td>\n",
       "      <td>224979</td>\n",
       "      <td>...</td>\n",
       "      <td>224979</td>\n",
       "      <td>224979</td>\n",
       "      <td>224979</td>\n",
       "      <td>224979</td>\n",
       "      <td>224979</td>\n",
       "      <td>224979</td>\n",
       "      <td>224979</td>\n",
       "      <td>224979</td>\n",
       "      <td>224979</td>\n",
       "      <td>224979</td>\n",
       "    </tr>\n",
       "    <tr>\n",
       "      <th>13</th>\n",
       "      <td>122</td>\n",
       "      <td>122</td>\n",
       "      <td>122</td>\n",
       "      <td>122</td>\n",
       "      <td>122</td>\n",
       "      <td>122</td>\n",
       "      <td>0</td>\n",
       "      <td>122</td>\n",
       "      <td>122</td>\n",
       "      <td>122</td>\n",
       "      <td>...</td>\n",
       "      <td>122</td>\n",
       "      <td>122</td>\n",
       "      <td>122</td>\n",
       "      <td>122</td>\n",
       "      <td>122</td>\n",
       "      <td>122</td>\n",
       "      <td>122</td>\n",
       "      <td>122</td>\n",
       "      <td>122</td>\n",
       "      <td>122</td>\n",
       "    </tr>\n",
       "    <tr>\n",
       "      <th>14</th>\n",
       "      <td>45128</td>\n",
       "      <td>45128</td>\n",
       "      <td>45128</td>\n",
       "      <td>45128</td>\n",
       "      <td>45128</td>\n",
       "      <td>45128</td>\n",
       "      <td>0</td>\n",
       "      <td>45128</td>\n",
       "      <td>45128</td>\n",
       "      <td>45128</td>\n",
       "      <td>...</td>\n",
       "      <td>45128</td>\n",
       "      <td>45128</td>\n",
       "      <td>45128</td>\n",
       "      <td>45128</td>\n",
       "      <td>45128</td>\n",
       "      <td>45128</td>\n",
       "      <td>45128</td>\n",
       "      <td>45128</td>\n",
       "      <td>45128</td>\n",
       "      <td>45128</td>\n",
       "    </tr>\n",
       "    <tr>\n",
       "      <th>22</th>\n",
       "      <td>7274</td>\n",
       "      <td>7274</td>\n",
       "      <td>7274</td>\n",
       "      <td>7274</td>\n",
       "      <td>7274</td>\n",
       "      <td>7274</td>\n",
       "      <td>0</td>\n",
       "      <td>7274</td>\n",
       "      <td>7274</td>\n",
       "      <td>7274</td>\n",
       "      <td>...</td>\n",
       "      <td>7274</td>\n",
       "      <td>7274</td>\n",
       "      <td>7274</td>\n",
       "      <td>7274</td>\n",
       "      <td>7274</td>\n",
       "      <td>7274</td>\n",
       "      <td>7274</td>\n",
       "      <td>7274</td>\n",
       "      <td>7274</td>\n",
       "      <td>7274</td>\n",
       "    </tr>\n",
       "    <tr>\n",
       "      <th>32</th>\n",
       "      <td>1076</td>\n",
       "      <td>1076</td>\n",
       "      <td>1076</td>\n",
       "      <td>1076</td>\n",
       "      <td>1076</td>\n",
       "      <td>1076</td>\n",
       "      <td>1076</td>\n",
       "      <td>1076</td>\n",
       "      <td>1076</td>\n",
       "      <td>1076</td>\n",
       "      <td>...</td>\n",
       "      <td>1076</td>\n",
       "      <td>1076</td>\n",
       "      <td>1076</td>\n",
       "      <td>1076</td>\n",
       "      <td>1076</td>\n",
       "      <td>1076</td>\n",
       "      <td>1076</td>\n",
       "      <td>1076</td>\n",
       "      <td>1076</td>\n",
       "      <td>1076</td>\n",
       "    </tr>\n",
       "    <tr>\n",
       "      <th>33</th>\n",
       "      <td>700</td>\n",
       "      <td>700</td>\n",
       "      <td>700</td>\n",
       "      <td>700</td>\n",
       "      <td>700</td>\n",
       "      <td>700</td>\n",
       "      <td>700</td>\n",
       "      <td>700</td>\n",
       "      <td>700</td>\n",
       "      <td>700</td>\n",
       "      <td>...</td>\n",
       "      <td>700</td>\n",
       "      <td>700</td>\n",
       "      <td>700</td>\n",
       "      <td>700</td>\n",
       "      <td>700</td>\n",
       "      <td>700</td>\n",
       "      <td>700</td>\n",
       "      <td>700</td>\n",
       "      <td>700</td>\n",
       "      <td>700</td>\n",
       "    </tr>\n",
       "    <tr>\n",
       "      <th>38</th>\n",
       "      <td>55583</td>\n",
       "      <td>55583</td>\n",
       "      <td>55583</td>\n",
       "      <td>55583</td>\n",
       "      <td>55583</td>\n",
       "      <td>55583</td>\n",
       "      <td>55583</td>\n",
       "      <td>55583</td>\n",
       "      <td>55583</td>\n",
       "      <td>55583</td>\n",
       "      <td>...</td>\n",
       "      <td>55583</td>\n",
       "      <td>55583</td>\n",
       "      <td>55583</td>\n",
       "      <td>55583</td>\n",
       "      <td>55583</td>\n",
       "      <td>55583</td>\n",
       "      <td>55583</td>\n",
       "      <td>55583</td>\n",
       "      <td>55583</td>\n",
       "      <td>55583</td>\n",
       "    </tr>\n",
       "    <tr>\n",
       "      <th>42</th>\n",
       "      <td>39862</td>\n",
       "      <td>39862</td>\n",
       "      <td>39862</td>\n",
       "      <td>39862</td>\n",
       "      <td>39862</td>\n",
       "      <td>39862</td>\n",
       "      <td>39862</td>\n",
       "      <td>39862</td>\n",
       "      <td>39862</td>\n",
       "      <td>39862</td>\n",
       "      <td>...</td>\n",
       "      <td>39862</td>\n",
       "      <td>39862</td>\n",
       "      <td>39862</td>\n",
       "      <td>39862</td>\n",
       "      <td>39862</td>\n",
       "      <td>39862</td>\n",
       "      <td>39862</td>\n",
       "      <td>39862</td>\n",
       "      <td>39862</td>\n",
       "      <td>39862</td>\n",
       "    </tr>\n",
       "    <tr>\n",
       "      <th>46</th>\n",
       "      <td>10</td>\n",
       "      <td>10</td>\n",
       "      <td>10</td>\n",
       "      <td>10</td>\n",
       "      <td>10</td>\n",
       "      <td>10</td>\n",
       "      <td>0</td>\n",
       "      <td>10</td>\n",
       "      <td>10</td>\n",
       "      <td>10</td>\n",
       "      <td>...</td>\n",
       "      <td>10</td>\n",
       "      <td>10</td>\n",
       "      <td>10</td>\n",
       "      <td>10</td>\n",
       "      <td>10</td>\n",
       "      <td>10</td>\n",
       "      <td>10</td>\n",
       "      <td>10</td>\n",
       "      <td>10</td>\n",
       "      <td>10</td>\n",
       "    </tr>\n",
       "    <tr>\n",
       "      <th>50</th>\n",
       "      <td>148</td>\n",
       "      <td>148</td>\n",
       "      <td>148</td>\n",
       "      <td>148</td>\n",
       "      <td>148</td>\n",
       "      <td>148</td>\n",
       "      <td>0</td>\n",
       "      <td>148</td>\n",
       "      <td>148</td>\n",
       "      <td>148</td>\n",
       "      <td>...</td>\n",
       "      <td>148</td>\n",
       "      <td>148</td>\n",
       "      <td>148</td>\n",
       "      <td>148</td>\n",
       "      <td>148</td>\n",
       "      <td>148</td>\n",
       "      <td>148</td>\n",
       "      <td>148</td>\n",
       "      <td>148</td>\n",
       "      <td>148</td>\n",
       "    </tr>\n",
       "    <tr>\n",
       "      <th>51</th>\n",
       "      <td>56</td>\n",
       "      <td>56</td>\n",
       "      <td>56</td>\n",
       "      <td>56</td>\n",
       "      <td>56</td>\n",
       "      <td>56</td>\n",
       "      <td>0</td>\n",
       "      <td>56</td>\n",
       "      <td>56</td>\n",
       "      <td>56</td>\n",
       "      <td>...</td>\n",
       "      <td>56</td>\n",
       "      <td>56</td>\n",
       "      <td>56</td>\n",
       "      <td>56</td>\n",
       "      <td>56</td>\n",
       "      <td>56</td>\n",
       "      <td>56</td>\n",
       "      <td>56</td>\n",
       "      <td>56</td>\n",
       "      <td>56</td>\n",
       "    </tr>\n",
       "    <tr>\n",
       "      <th>52</th>\n",
       "      <td>115</td>\n",
       "      <td>115</td>\n",
       "      <td>115</td>\n",
       "      <td>115</td>\n",
       "      <td>115</td>\n",
       "      <td>115</td>\n",
       "      <td>0</td>\n",
       "      <td>115</td>\n",
       "      <td>115</td>\n",
       "      <td>115</td>\n",
       "      <td>...</td>\n",
       "      <td>115</td>\n",
       "      <td>115</td>\n",
       "      <td>115</td>\n",
       "      <td>115</td>\n",
       "      <td>115</td>\n",
       "      <td>115</td>\n",
       "      <td>115</td>\n",
       "      <td>115</td>\n",
       "      <td>115</td>\n",
       "      <td>115</td>\n",
       "    </tr>\n",
       "    <tr>\n",
       "      <th>58</th>\n",
       "      <td>348</td>\n",
       "      <td>348</td>\n",
       "      <td>348</td>\n",
       "      <td>348</td>\n",
       "      <td>348</td>\n",
       "      <td>348</td>\n",
       "      <td>0</td>\n",
       "      <td>348</td>\n",
       "      <td>348</td>\n",
       "      <td>348</td>\n",
       "      <td>...</td>\n",
       "      <td>348</td>\n",
       "      <td>348</td>\n",
       "      <td>348</td>\n",
       "      <td>348</td>\n",
       "      <td>348</td>\n",
       "      <td>348</td>\n",
       "      <td>348</td>\n",
       "      <td>348</td>\n",
       "      <td>348</td>\n",
       "      <td>348</td>\n",
       "    </tr>\n",
       "    <tr>\n",
       "      <th>62</th>\n",
       "      <td>447011</td>\n",
       "      <td>447011</td>\n",
       "      <td>447011</td>\n",
       "      <td>447011</td>\n",
       "      <td>447011</td>\n",
       "      <td>447011</td>\n",
       "      <td>447011</td>\n",
       "      <td>447011</td>\n",
       "      <td>447011</td>\n",
       "      <td>447011</td>\n",
       "      <td>...</td>\n",
       "      <td>447011</td>\n",
       "      <td>447011</td>\n",
       "      <td>447011</td>\n",
       "      <td>447011</td>\n",
       "      <td>447011</td>\n",
       "      <td>447011</td>\n",
       "      <td>447011</td>\n",
       "      <td>447011</td>\n",
       "      <td>447011</td>\n",
       "      <td>447011</td>\n",
       "    </tr>\n",
       "    <tr>\n",
       "      <th>74</th>\n",
       "      <td>51876</td>\n",
       "      <td>51876</td>\n",
       "      <td>51876</td>\n",
       "      <td>51876</td>\n",
       "      <td>51876</td>\n",
       "      <td>51876</td>\n",
       "      <td>51876</td>\n",
       "      <td>51876</td>\n",
       "      <td>51876</td>\n",
       "      <td>51876</td>\n",
       "      <td>...</td>\n",
       "      <td>51876</td>\n",
       "      <td>51876</td>\n",
       "      <td>51876</td>\n",
       "      <td>51876</td>\n",
       "      <td>51876</td>\n",
       "      <td>51876</td>\n",
       "      <td>51876</td>\n",
       "      <td>51876</td>\n",
       "      <td>51876</td>\n",
       "      <td>51876</td>\n",
       "    </tr>\n",
       "    <tr>\n",
       "      <th>75</th>\n",
       "      <td>56545</td>\n",
       "      <td>56545</td>\n",
       "      <td>56545</td>\n",
       "      <td>56545</td>\n",
       "      <td>56545</td>\n",
       "      <td>56545</td>\n",
       "      <td>56545</td>\n",
       "      <td>56545</td>\n",
       "      <td>56545</td>\n",
       "      <td>56545</td>\n",
       "      <td>...</td>\n",
       "      <td>56545</td>\n",
       "      <td>56545</td>\n",
       "      <td>56545</td>\n",
       "      <td>56545</td>\n",
       "      <td>56545</td>\n",
       "      <td>56545</td>\n",
       "      <td>56545</td>\n",
       "      <td>56545</td>\n",
       "      <td>56545</td>\n",
       "      <td>56545</td>\n",
       "    </tr>\n",
       "    <tr>\n",
       "      <th>78</th>\n",
       "      <td>1966883</td>\n",
       "      <td>1966883</td>\n",
       "      <td>1966883</td>\n",
       "      <td>1966883</td>\n",
       "      <td>1966883</td>\n",
       "      <td>1966883</td>\n",
       "      <td>1966883</td>\n",
       "      <td>1966883</td>\n",
       "      <td>1966883</td>\n",
       "      <td>1966883</td>\n",
       "      <td>...</td>\n",
       "      <td>1966883</td>\n",
       "      <td>1966883</td>\n",
       "      <td>1966883</td>\n",
       "      <td>1966883</td>\n",
       "      <td>1966883</td>\n",
       "      <td>1966883</td>\n",
       "      <td>1966883</td>\n",
       "      <td>1966883</td>\n",
       "      <td>1966883</td>\n",
       "      <td>1966883</td>\n",
       "    </tr>\n",
       "    <tr>\n",
       "      <th>82</th>\n",
       "      <td>1551904</td>\n",
       "      <td>1551904</td>\n",
       "      <td>1551904</td>\n",
       "      <td>1551904</td>\n",
       "      <td>1551904</td>\n",
       "      <td>1551904</td>\n",
       "      <td>1551904</td>\n",
       "      <td>1551904</td>\n",
       "      <td>1551904</td>\n",
       "      <td>1551904</td>\n",
       "      <td>...</td>\n",
       "      <td>1551904</td>\n",
       "      <td>1551904</td>\n",
       "      <td>1551904</td>\n",
       "      <td>1551904</td>\n",
       "      <td>1551904</td>\n",
       "      <td>1551904</td>\n",
       "      <td>1551904</td>\n",
       "      <td>1551904</td>\n",
       "      <td>1551904</td>\n",
       "      <td>1551904</td>\n",
       "    </tr>\n",
       "    <tr>\n",
       "      <th>96</th>\n",
       "      <td>584818</td>\n",
       "      <td>584818</td>\n",
       "      <td>584818</td>\n",
       "      <td>584818</td>\n",
       "      <td>584818</td>\n",
       "      <td>584818</td>\n",
       "      <td>0</td>\n",
       "      <td>584818</td>\n",
       "      <td>584818</td>\n",
       "      <td>584818</td>\n",
       "      <td>...</td>\n",
       "      <td>584818</td>\n",
       "      <td>584818</td>\n",
       "      <td>584818</td>\n",
       "      <td>584818</td>\n",
       "      <td>584818</td>\n",
       "      <td>584818</td>\n",
       "      <td>584818</td>\n",
       "      <td>584818</td>\n",
       "      <td>584818</td>\n",
       "      <td>584818</td>\n",
       "    </tr>\n",
       "  </tbody>\n",
       "</table>\n",
       "<p>24 rows × 25 columns</p>\n",
       "</div>"
      ],
      "text/plain": [
       "         TIPREG   DTPREG   CODNEG   TPMERC   NOMRES   ESPECI   PRAZOT  \\\n",
       "CODBDI                                                                  \n",
       "2        733407   733407   733407   733407   733407   733407        0   \n",
       "5          2290     2290     2290     2290     2290     2290        0   \n",
       "7          2484     2484     2484     2484     2484     2484        0   \n",
       "8         34348    34348    34348    34348    34348    34348        0   \n",
       "10         5951     5951     5951     5951     5951     5951        0   \n",
       "12       224979   224979   224979   224979   224979   224979        0   \n",
       "13          122      122      122      122      122      122        0   \n",
       "14        45128    45128    45128    45128    45128    45128        0   \n",
       "22         7274     7274     7274     7274     7274     7274        0   \n",
       "32         1076     1076     1076     1076     1076     1076     1076   \n",
       "33          700      700      700      700      700      700      700   \n",
       "38        55583    55583    55583    55583    55583    55583    55583   \n",
       "42        39862    39862    39862    39862    39862    39862    39862   \n",
       "46           10       10       10       10       10       10        0   \n",
       "50          148      148      148      148      148      148        0   \n",
       "51           56       56       56       56       56       56        0   \n",
       "52          115      115      115      115      115      115        0   \n",
       "58          348      348      348      348      348      348        0   \n",
       "62       447011   447011   447011   447011   447011   447011   447011   \n",
       "74        51876    51876    51876    51876    51876    51876    51876   \n",
       "75        56545    56545    56545    56545    56545    56545    56545   \n",
       "78      1966883  1966883  1966883  1966883  1966883  1966883  1966883   \n",
       "82      1551904  1551904  1551904  1551904  1551904  1551904  1551904   \n",
       "96       584818   584818   584818   584818   584818   584818        0   \n",
       "\n",
       "         MODREF   PREABE   PREMAX  ...   TOTNEG   QUATOT   VOLTOT   PREEXE  \\\n",
       "CODBDI                             ...                                       \n",
       "2        733407   733407   733407  ...   733407   733407   733407   733407   \n",
       "5          2290     2290     2290  ...     2290     2290     2290     2290   \n",
       "7          2484     2484     2484  ...     2484     2484     2484     2484   \n",
       "8         34348    34348    34348  ...    34348    34348    34348    34348   \n",
       "10         5951     5951     5951  ...     5951     5951     5951     5951   \n",
       "12       224979   224979   224979  ...   224979   224979   224979   224979   \n",
       "13          122      122      122  ...      122      122      122      122   \n",
       "14        45128    45128    45128  ...    45128    45128    45128    45128   \n",
       "22         7274     7274     7274  ...     7274     7274     7274     7274   \n",
       "32         1076     1076     1076  ...     1076     1076     1076     1076   \n",
       "33          700      700      700  ...      700      700      700      700   \n",
       "38        55583    55583    55583  ...    55583    55583    55583    55583   \n",
       "42        39862    39862    39862  ...    39862    39862    39862    39862   \n",
       "46           10       10       10  ...       10       10       10       10   \n",
       "50          148      148      148  ...      148      148      148      148   \n",
       "51           56       56       56  ...       56       56       56       56   \n",
       "52          115      115      115  ...      115      115      115      115   \n",
       "58          348      348      348  ...      348      348      348      348   \n",
       "62       447011   447011   447011  ...   447011   447011   447011   447011   \n",
       "74        51876    51876    51876  ...    51876    51876    51876    51876   \n",
       "75        56545    56545    56545  ...    56545    56545    56545    56545   \n",
       "78      1966883  1966883  1966883  ...  1966883  1966883  1966883  1966883   \n",
       "82      1551904  1551904  1551904  ...  1551904  1551904  1551904  1551904   \n",
       "96       584818   584818   584818  ...   584818   584818   584818   584818   \n",
       "\n",
       "         INDOPC   DATVEN   FATCOT   PTOEXE   CODISI   DISMES  \n",
       "CODBDI                                                        \n",
       "2        733407   733407   733407   733407   733407   733407  \n",
       "5          2290     2290     2290     2290     2290     2290  \n",
       "7          2484     2484     2484     2484     2484     2484  \n",
       "8         34348    34348    34348    34348    34348    34348  \n",
       "10         5951     5951     5951     5951     5951     5951  \n",
       "12       224979   224979   224979   224979   224979   224979  \n",
       "13          122      122      122      122      122      122  \n",
       "14        45128    45128    45128    45128    45128    45128  \n",
       "22         7274     7274     7274     7274     7274     7274  \n",
       "32         1076     1076     1076     1076     1076     1076  \n",
       "33          700      700      700      700      700      700  \n",
       "38        55583    55583    55583    55583    55583    55583  \n",
       "42        39862    39862    39862    39862    39862    39862  \n",
       "46           10       10       10       10       10       10  \n",
       "50          148      148      148      148      148      148  \n",
       "51           56       56       56       56       56       56  \n",
       "52          115      115      115      115      115      115  \n",
       "58          348      348      348      348      348      348  \n",
       "62       447011   447011   447011   447011   447011   447011  \n",
       "74        51876    51876    51876    51876    51876    51876  \n",
       "75        56545    56545    56545    56545    56545    56545  \n",
       "78      1966883  1966883  1966883  1966883  1966883  1966883  \n",
       "82      1551904  1551904  1551904  1551904  1551904  1551904  \n",
       "96       584818   584818   584818   584818   584818   584818  \n",
       "\n",
       "[24 rows x 25 columns]"
      ]
     },
     "execution_count": 6,
     "metadata": {},
     "output_type": "execute_result"
    }
   ],
   "source": [
    "# o campo CODBDI indica o código dos papéis na emissão do boletim diário de informações\n",
    "# apesar de iteressar somente o CODBDI=2 ou 96 (LOTE PADRAO OU FRACIONARIO), uma análise de frequência nos indica que o arquivo possui também grande volume\n",
    "# de negociação de \"opções\"\n",
    "df['CODBDI'].unique()\n",
    "df.groupby('CODBDI').count()\n",
    "\n",
    "\n"
   ]
  },
  {
   "cell_type": "code",
   "execution_count": 8,
   "id": "772f0d1d",
   "metadata": {},
   "outputs": [
    {
     "data": {
      "text/plain": [
       "array([10, 20], dtype=int64)"
      ]
     },
     "execution_count": 8,
     "metadata": {},
     "output_type": "execute_result"
    },
    {
     "data": {
      "text/plain": [
       "array(['ON  EJ', 'ON      NM', 'ON', 'ON      N1', 'ON  EJ  NM',\n",
       "       'ON  EJ  N1', 'ON      MA', 'ON  EDJ NM', 'ON  ES  NM', 'ON  ED',\n",
       "       'ON *EC', 'ON      N2', 'ON  ED  N1', 'ON  EJ  N2', 'ON  ES  MA',\n",
       "       'ON  EG  N1', 'ON *', 'ON  EDJ', 'ON      MB', 'ON  EJ  MB',\n",
       "       'ON  ES', 'ON  EG', 'ON  EG  N2', 'ON  REC NM', 'ON  EJG',\n",
       "       'ON  EDJ N1', 'ON  EX  N1', 'ON  ED  NM', 'ON  ED  N2',\n",
       "       'ON  EB  N1', 'ON *ES', 'ON  EJB NM', 'ON  EJB N1', 'ON  EX',\n",
       "       'ON  REC N1', 'ON  EB  NM', 'ON  ED  MB', 'ON  ER  NM', 'ON  EDB',\n",
       "       'ON *REC', 'ON  EDS', 'ON  EDB NM', 'ON  ES  N2', 'ON *ED',\n",
       "       'ON  EDJ MA', 'ON  EDS NM', 'ON  EG  NM', 'ON  EDB N1',\n",
       "       'ON  EDR NM', 'ON  EG  MA', 'ON  EJ  MA', 'ON  ES  N1', 'ON *EJ',\n",
       "       'ON  EJS N1', 'ON  EBG NM', 'ON   ED NM', 'ON  EC', 'ON  EB',\n",
       "       'ON  ERJ', 'ON  EDR', 'ON  EDG', 'ON  EGS NM', 'ON  EJS NM',\n",
       "       'ON  REC N2', 'ON <', 'ON  EJS N2', 'ON  ATZ', 'ON  ER',\n",
       "       'ON  ERJ NM', 'ON  EC  NM', 'ON  EDJ N2', 'ON  REC', 'ON  ATZ N1',\n",
       "       'ON  ATZ NM', 'ON  EX  NM', 'ON  EB  N2', 'ON  ER  N1',\n",
       "       'ON  EDC NM', 'ON  ERJ N2', 'ON  EDR N1', 'ON  INT', 'ON  EDS N2',\n",
       "       'ON  REC MA', 'ON  EDR N2', 'ON  P   NM', 'ON  EDB N2',\n",
       "       'ON  EB  MA', 'ON  EBG N1', 'ON  EC  N1', 'ON  EBG', 'ON  EDC N1',\n",
       "       'PN  EJS N2', 'PN      N1', 'PN', 'PN  EJ  N1', 'PNA     N1',\n",
       "       'PNB     N1', 'PNA', 'PN  EJ', 'PN      N2', 'PN  EJ  N2',\n",
       "       'PN *EC', 'PN  ED  N1', 'PN  EG  N1', 'PN  ED  N2', 'PNB', 'PN *',\n",
       "       'PNA EJ', 'PN  EJ  MB', 'PNB EJ', 'PNC', 'PNA EG', 'PNB EG', 'PNE',\n",
       "       'PN  EG', 'PND', 'PN  EG  N2', 'PNA ED', 'PNE ED', 'PNF', 'PNB ED',\n",
       "       'PN      MB', 'PN  EDJ N1', 'PN  EX  N1', 'PN  ED', 'PN  REC N2',\n",
       "       'PNB EJ  N1', 'PNA EJ  N1', 'PN  EB  N1', 'PN *ES', 'PN  ES',\n",
       "       'PN  REC N1', 'PN  EJB N1', 'PNA ED  N1', 'PNB ED  N1', 'PNA EDS',\n",
       "       'PN  ES  N2', 'PN  EDB', 'PN  ATZ', 'PN  EDJ', 'PNA EDJ',\n",
       "       'PN  EDB N1', 'PNA     MB', 'PN  ES  N1', 'PN  EJS N1',\n",
       "       'PNA ES  N1', 'PNB ES  N1', 'PN  EB', 'PNA REC N1', 'PNA ES',\n",
       "       'PNB EDJ N1', 'PND ED', 'PN  EBS', 'PN <', 'PN  REC', 'PNF ED',\n",
       "       'PN  ER', 'PN  EDB N2', 'PN  EDJ N2', 'PNA ATZ N1', 'PN  EC',\n",
       "       'PNB     MB', 'PNC ED', 'PNB EDJ', 'PNA ER  N1', 'PNB ER  N1',\n",
       "       'PNA EB', 'PNB EB', 'PN  ERJ N2', 'PNB EDR N1', 'PN   INT',\n",
       "       'PNA EDR N1', 'PNA     N2', 'PNA EJ  N2', 'PN  EDS N2', 'PNA EX',\n",
       "       'PN  EB  N2', 'PNB ED  MB', 'PNA REC N2', 'PN  EDR N2',\n",
       "       'PNA ED  MB', 'PNB EB  N1', 'PN  ATZ N2', 'PN  EX  N2',\n",
       "       'PN  EBG N1', 'PNA EB  N2', 'PNB EX', 'PNA EDJ N1', 'PNB     N2',\n",
       "       'PN  EC  N1', 'PN  EDC N1'], dtype=object)"
      ]
     },
     "execution_count": 8,
     "metadata": {},
     "output_type": "execute_result"
    },
    {
     "data": {
      "text/plain": [
       "TIPREG    1003200\n",
       "DTPREG    1003200\n",
       "CODBDI    1003200\n",
       "CODNEG    1003200\n",
       "TPMERC    1003200\n",
       "NOMRES    1003200\n",
       "ESPECI    1003200\n",
       "PRAZOT          0\n",
       "MODREF    1003200\n",
       "PREABE    1003200\n",
       "PREMAX    1003200\n",
       "PREMIN    1003200\n",
       "PREMED    1003200\n",
       "PREULT    1003200\n",
       "PREOFC    1003200\n",
       "PREOFV    1003200\n",
       "TOTNEG    1003200\n",
       "QUATOT    1003200\n",
       "VOLTOT    1003200\n",
       "PREEXE    1003200\n",
       "INDOPC    1003200\n",
       "DATVEN    1003200\n",
       "FATCOT    1003200\n",
       "PTOEXE    1003200\n",
       "CODISI    1003200\n",
       "DISMES    1003200\n",
       "dtype: int64"
      ]
     },
     "execution_count": 8,
     "metadata": {},
     "output_type": "execute_result"
    }
   ],
   "source": [
    "# filtros\n",
    "# Critério 1 - somente papéis negociados em R$\n",
    "\n",
    "df = df.query(\"MODREF=='R$'\")\n",
    "\n",
    "# Critério 2 - somente ACÕES ORDINÁRIAS e PREFERENCIAIS\n",
    "# este critério possui dois objetivos:\n",
    "# - selecionar somente os tipos de ativos mais negociados pelo investidor comum\n",
    "# - reduzir o número de registros a ser trabalhado\n",
    "df1 = df[df.ESPECI.str.contains('ON')]\n",
    "df2 = df[df.ESPECI.str.contains('PN')]\n",
    "\n",
    "df = pd.concat( [df1,df2])\n",
    "\n",
    "# Critério 3 - somente LOTE PADRÃO e FRACIONÁRIO\n",
    "# para este modelo, não temos interesse em outros tipos de ativo, como por exemplo recuperação judicial, opções ou leilões.\n",
    "df = df.query(\"CODBDI in (2,96)\")\n",
    "\n",
    "# com os filtros acima aplicados, sobraram somente observações TPMERC(TIPO DE MERCADO) = 10 e 20. Ou seja, \"Mercado a Vista\" e \"Fracionário\"\n",
    "df['TPMERC'].unique()\n",
    "df['ESPECI'].unique()\n",
    "df.count()\n"
   ]
  },
  {
   "cell_type": "markdown",
   "id": "28765c86",
   "metadata": {},
   "source": [
    "# Escolhendo um ativo específico"
   ]
  },
  {
   "cell_type": "code",
   "execution_count": 9,
   "id": "6f2ca9ee",
   "metadata": {},
   "outputs": [
    {
     "data": {
      "text/html": [
       "<div>\n",
       "<style scoped>\n",
       "    .dataframe tbody tr th:only-of-type {\n",
       "        vertical-align: middle;\n",
       "    }\n",
       "\n",
       "    .dataframe tbody tr th {\n",
       "        vertical-align: top;\n",
       "    }\n",
       "\n",
       "    .dataframe thead th {\n",
       "        text-align: right;\n",
       "    }\n",
       "</style>\n",
       "<table border=\"1\" class=\"dataframe\">\n",
       "  <thead>\n",
       "    <tr style=\"text-align: right;\">\n",
       "      <th></th>\n",
       "      <th>index</th>\n",
       "      <th>TIPREG</th>\n",
       "      <th>DTPREG</th>\n",
       "      <th>CODBDI</th>\n",
       "      <th>CODNEG</th>\n",
       "      <th>TPMERC</th>\n",
       "      <th>NOMRES</th>\n",
       "      <th>ESPECI</th>\n",
       "      <th>PRAZOT</th>\n",
       "      <th>MODREF</th>\n",
       "      <th>...</th>\n",
       "      <th>TOTNEG</th>\n",
       "      <th>QUATOT</th>\n",
       "      <th>VOLTOT</th>\n",
       "      <th>PREEXE</th>\n",
       "      <th>INDOPC</th>\n",
       "      <th>DATVEN</th>\n",
       "      <th>FATCOT</th>\n",
       "      <th>PTOEXE</th>\n",
       "      <th>CODISI</th>\n",
       "      <th>DISMES</th>\n",
       "    </tr>\n",
       "    <tr>\n",
       "      <th>ANOPREG</th>\n",
       "      <th></th>\n",
       "      <th></th>\n",
       "      <th></th>\n",
       "      <th></th>\n",
       "      <th></th>\n",
       "      <th></th>\n",
       "      <th></th>\n",
       "      <th></th>\n",
       "      <th></th>\n",
       "      <th></th>\n",
       "      <th></th>\n",
       "      <th></th>\n",
       "      <th></th>\n",
       "      <th></th>\n",
       "      <th></th>\n",
       "      <th></th>\n",
       "      <th></th>\n",
       "      <th></th>\n",
       "      <th></th>\n",
       "      <th></th>\n",
       "      <th></th>\n",
       "    </tr>\n",
       "  </thead>\n",
       "  <tbody>\n",
       "    <tr>\n",
       "      <th>2015</th>\n",
       "      <td>246</td>\n",
       "      <td>246</td>\n",
       "      <td>246</td>\n",
       "      <td>246</td>\n",
       "      <td>246</td>\n",
       "      <td>246</td>\n",
       "      <td>246</td>\n",
       "      <td>246</td>\n",
       "      <td>0</td>\n",
       "      <td>246</td>\n",
       "      <td>...</td>\n",
       "      <td>246</td>\n",
       "      <td>246</td>\n",
       "      <td>246</td>\n",
       "      <td>246</td>\n",
       "      <td>246</td>\n",
       "      <td>246</td>\n",
       "      <td>246</td>\n",
       "      <td>246</td>\n",
       "      <td>246</td>\n",
       "      <td>246</td>\n",
       "    </tr>\n",
       "    <tr>\n",
       "      <th>2016</th>\n",
       "      <td>249</td>\n",
       "      <td>249</td>\n",
       "      <td>249</td>\n",
       "      <td>249</td>\n",
       "      <td>249</td>\n",
       "      <td>249</td>\n",
       "      <td>249</td>\n",
       "      <td>249</td>\n",
       "      <td>0</td>\n",
       "      <td>249</td>\n",
       "      <td>...</td>\n",
       "      <td>249</td>\n",
       "      <td>249</td>\n",
       "      <td>249</td>\n",
       "      <td>249</td>\n",
       "      <td>249</td>\n",
       "      <td>249</td>\n",
       "      <td>249</td>\n",
       "      <td>249</td>\n",
       "      <td>249</td>\n",
       "      <td>249</td>\n",
       "    </tr>\n",
       "    <tr>\n",
       "      <th>2017</th>\n",
       "      <td>246</td>\n",
       "      <td>246</td>\n",
       "      <td>246</td>\n",
       "      <td>246</td>\n",
       "      <td>246</td>\n",
       "      <td>246</td>\n",
       "      <td>246</td>\n",
       "      <td>246</td>\n",
       "      <td>0</td>\n",
       "      <td>246</td>\n",
       "      <td>...</td>\n",
       "      <td>246</td>\n",
       "      <td>246</td>\n",
       "      <td>246</td>\n",
       "      <td>246</td>\n",
       "      <td>246</td>\n",
       "      <td>246</td>\n",
       "      <td>246</td>\n",
       "      <td>246</td>\n",
       "      <td>246</td>\n",
       "      <td>246</td>\n",
       "    </tr>\n",
       "    <tr>\n",
       "      <th>2018</th>\n",
       "      <td>245</td>\n",
       "      <td>245</td>\n",
       "      <td>245</td>\n",
       "      <td>245</td>\n",
       "      <td>245</td>\n",
       "      <td>245</td>\n",
       "      <td>245</td>\n",
       "      <td>245</td>\n",
       "      <td>0</td>\n",
       "      <td>245</td>\n",
       "      <td>...</td>\n",
       "      <td>245</td>\n",
       "      <td>245</td>\n",
       "      <td>245</td>\n",
       "      <td>245</td>\n",
       "      <td>245</td>\n",
       "      <td>245</td>\n",
       "      <td>245</td>\n",
       "      <td>245</td>\n",
       "      <td>245</td>\n",
       "      <td>245</td>\n",
       "    </tr>\n",
       "    <tr>\n",
       "      <th>2019</th>\n",
       "      <td>248</td>\n",
       "      <td>248</td>\n",
       "      <td>248</td>\n",
       "      <td>248</td>\n",
       "      <td>248</td>\n",
       "      <td>248</td>\n",
       "      <td>248</td>\n",
       "      <td>248</td>\n",
       "      <td>0</td>\n",
       "      <td>248</td>\n",
       "      <td>...</td>\n",
       "      <td>248</td>\n",
       "      <td>248</td>\n",
       "      <td>248</td>\n",
       "      <td>248</td>\n",
       "      <td>248</td>\n",
       "      <td>248</td>\n",
       "      <td>248</td>\n",
       "      <td>248</td>\n",
       "      <td>248</td>\n",
       "      <td>248</td>\n",
       "    </tr>\n",
       "    <tr>\n",
       "      <th>2020</th>\n",
       "      <td>249</td>\n",
       "      <td>249</td>\n",
       "      <td>249</td>\n",
       "      <td>249</td>\n",
       "      <td>249</td>\n",
       "      <td>249</td>\n",
       "      <td>249</td>\n",
       "      <td>249</td>\n",
       "      <td>0</td>\n",
       "      <td>249</td>\n",
       "      <td>...</td>\n",
       "      <td>249</td>\n",
       "      <td>249</td>\n",
       "      <td>249</td>\n",
       "      <td>249</td>\n",
       "      <td>249</td>\n",
       "      <td>249</td>\n",
       "      <td>249</td>\n",
       "      <td>249</td>\n",
       "      <td>249</td>\n",
       "      <td>249</td>\n",
       "    </tr>\n",
       "    <tr>\n",
       "      <th>2021</th>\n",
       "      <td>247</td>\n",
       "      <td>247</td>\n",
       "      <td>247</td>\n",
       "      <td>247</td>\n",
       "      <td>247</td>\n",
       "      <td>247</td>\n",
       "      <td>247</td>\n",
       "      <td>247</td>\n",
       "      <td>0</td>\n",
       "      <td>247</td>\n",
       "      <td>...</td>\n",
       "      <td>247</td>\n",
       "      <td>247</td>\n",
       "      <td>247</td>\n",
       "      <td>247</td>\n",
       "      <td>247</td>\n",
       "      <td>247</td>\n",
       "      <td>247</td>\n",
       "      <td>247</td>\n",
       "      <td>247</td>\n",
       "      <td>247</td>\n",
       "    </tr>\n",
       "  </tbody>\n",
       "</table>\n",
       "<p>7 rows × 27 columns</p>\n",
       "</div>"
      ],
      "text/plain": [
       "         index  TIPREG  DTPREG  CODBDI  CODNEG  TPMERC  NOMRES  ESPECI  \\\n",
       "ANOPREG                                                                  \n",
       "2015       246     246     246     246     246     246     246     246   \n",
       "2016       249     249     249     249     249     249     249     249   \n",
       "2017       246     246     246     246     246     246     246     246   \n",
       "2018       245     245     245     245     245     245     245     245   \n",
       "2019       248     248     248     248     248     248     248     248   \n",
       "2020       249     249     249     249     249     249     249     249   \n",
       "2021       247     247     247     247     247     247     247     247   \n",
       "\n",
       "         PRAZOT  MODREF  ...  TOTNEG  QUATOT  VOLTOT  PREEXE  INDOPC  DATVEN  \\\n",
       "ANOPREG                  ...                                                   \n",
       "2015          0     246  ...     246     246     246     246     246     246   \n",
       "2016          0     249  ...     249     249     249     249     249     249   \n",
       "2017          0     246  ...     246     246     246     246     246     246   \n",
       "2018          0     245  ...     245     245     245     245     245     245   \n",
       "2019          0     248  ...     248     248     248     248     248     248   \n",
       "2020          0     249  ...     249     249     249     249     249     249   \n",
       "2021          0     247  ...     247     247     247     247     247     247   \n",
       "\n",
       "         FATCOT  PTOEXE  CODISI  DISMES  \n",
       "ANOPREG                                  \n",
       "2015        246     246     246     246  \n",
       "2016        249     249     249     249  \n",
       "2017        246     246     246     246  \n",
       "2018        245     245     245     245  \n",
       "2019        248     248     248     248  \n",
       "2020        249     249     249     249  \n",
       "2021        247     247     247     247  \n",
       "\n",
       "[7 rows x 27 columns]"
      ]
     },
     "execution_count": 9,
     "metadata": {},
     "output_type": "execute_result"
    },
    {
     "data": {
      "text/html": [
       "<div>\n",
       "<style scoped>\n",
       "    .dataframe tbody tr th:only-of-type {\n",
       "        vertical-align: middle;\n",
       "    }\n",
       "\n",
       "    .dataframe tbody tr th {\n",
       "        vertical-align: top;\n",
       "    }\n",
       "\n",
       "    .dataframe thead th {\n",
       "        text-align: right;\n",
       "    }\n",
       "</style>\n",
       "<table border=\"1\" class=\"dataframe\">\n",
       "  <thead>\n",
       "    <tr style=\"text-align: right;\">\n",
       "      <th></th>\n",
       "      <th>index</th>\n",
       "      <th>TIPREG</th>\n",
       "      <th>DTPREG</th>\n",
       "      <th>CODBDI</th>\n",
       "      <th>CODNEG</th>\n",
       "      <th>TPMERC</th>\n",
       "      <th>NOMRES</th>\n",
       "      <th>ESPECI</th>\n",
       "      <th>PRAZOT</th>\n",
       "      <th>MODREF</th>\n",
       "      <th>...</th>\n",
       "      <th>QUATOT</th>\n",
       "      <th>VOLTOT</th>\n",
       "      <th>PREEXE</th>\n",
       "      <th>INDOPC</th>\n",
       "      <th>DATVEN</th>\n",
       "      <th>FATCOT</th>\n",
       "      <th>PTOEXE</th>\n",
       "      <th>CODISI</th>\n",
       "      <th>DISMES</th>\n",
       "      <th>ANOPREG</th>\n",
       "    </tr>\n",
       "  </thead>\n",
       "  <tbody>\n",
       "    <tr>\n",
       "      <th>0</th>\n",
       "      <td>905</td>\n",
       "      <td>1</td>\n",
       "      <td>20150102</td>\n",
       "      <td>2</td>\n",
       "      <td>PETR4</td>\n",
       "      <td>10</td>\n",
       "      <td>PETROBRAS</td>\n",
       "      <td>PN</td>\n",
       "      <td>NaN</td>\n",
       "      <td>R$</td>\n",
       "      <td>...</td>\n",
       "      <td>940397380000</td>\n",
       "      <td>4883720000</td>\n",
       "      <td>467547</td>\n",
       "      <td>9</td>\n",
       "      <td>25000000</td>\n",
       "      <td>0</td>\n",
       "      <td>9999</td>\n",
       "      <td>123100000010</td>\n",
       "      <td>0</td>\n",
       "      <td>2015</td>\n",
       "    </tr>\n",
       "    <tr>\n",
       "      <th>1</th>\n",
       "      <td>2406</td>\n",
       "      <td>1</td>\n",
       "      <td>20150105</td>\n",
       "      <td>2</td>\n",
       "      <td>PETR4</td>\n",
       "      <td>10</td>\n",
       "      <td>PETROBRAS</td>\n",
       "      <td>PN</td>\n",
       "      <td>NaN</td>\n",
       "      <td>R$</td>\n",
       "      <td>...</td>\n",
       "      <td>861909810000</td>\n",
       "      <td>7707730000</td>\n",
       "      <td>674783</td>\n",
       "      <td>8</td>\n",
       "      <td>84000000</td>\n",
       "      <td>0</td>\n",
       "      <td>9999</td>\n",
       "      <td>123100000010</td>\n",
       "      <td>0</td>\n",
       "      <td>2015</td>\n",
       "    </tr>\n",
       "    <tr>\n",
       "      <th>2</th>\n",
       "      <td>3976</td>\n",
       "      <td>1</td>\n",
       "      <td>20150106</td>\n",
       "      <td>2</td>\n",
       "      <td>PETR4</td>\n",
       "      <td>10</td>\n",
       "      <td>PETROBRAS</td>\n",
       "      <td>PN</td>\n",
       "      <td>NaN</td>\n",
       "      <td>R$</td>\n",
       "      <td>...</td>\n",
       "      <td>833772830000</td>\n",
       "      <td>8402340000</td>\n",
       "      <td>706839</td>\n",
       "      <td>8</td>\n",
       "      <td>84000000</td>\n",
       "      <td>0</td>\n",
       "      <td>9999</td>\n",
       "      <td>123100000010</td>\n",
       "      <td>0</td>\n",
       "      <td>2015</td>\n",
       "    </tr>\n",
       "    <tr>\n",
       "      <th>3</th>\n",
       "      <td>5700</td>\n",
       "      <td>1</td>\n",
       "      <td>20150107</td>\n",
       "      <td>2</td>\n",
       "      <td>PETR4</td>\n",
       "      <td>10</td>\n",
       "      <td>PETROBRAS</td>\n",
       "      <td>PN</td>\n",
       "      <td>NaN</td>\n",
       "      <td>R$</td>\n",
       "      <td>...</td>\n",
       "      <td>868853080000</td>\n",
       "      <td>8553100000</td>\n",
       "      <td>733268</td>\n",
       "      <td>9</td>\n",
       "      <td>24000000</td>\n",
       "      <td>0</td>\n",
       "      <td>9999</td>\n",
       "      <td>123100000010</td>\n",
       "      <td>0</td>\n",
       "      <td>2015</td>\n",
       "    </tr>\n",
       "    <tr>\n",
       "      <th>4</th>\n",
       "      <td>7292</td>\n",
       "      <td>1</td>\n",
       "      <td>20150108</td>\n",
       "      <td>2</td>\n",
       "      <td>PETR4</td>\n",
       "      <td>10</td>\n",
       "      <td>PETROBRAS</td>\n",
       "      <td>PN</td>\n",
       "      <td>NaN</td>\n",
       "      <td>R$</td>\n",
       "      <td>...</td>\n",
       "      <td>918866960000</td>\n",
       "      <td>8273570000</td>\n",
       "      <td>754338</td>\n",
       "      <td>6</td>\n",
       "      <td>35000000</td>\n",
       "      <td>0</td>\n",
       "      <td>9999</td>\n",
       "      <td>123100000010</td>\n",
       "      <td>0</td>\n",
       "      <td>2015</td>\n",
       "    </tr>\n",
       "    <tr>\n",
       "      <th>...</th>\n",
       "      <td>...</td>\n",
       "      <td>...</td>\n",
       "      <td>...</td>\n",
       "      <td>...</td>\n",
       "      <td>...</td>\n",
       "      <td>...</td>\n",
       "      <td>...</td>\n",
       "      <td>...</td>\n",
       "      <td>...</td>\n",
       "      <td>...</td>\n",
       "      <td>...</td>\n",
       "      <td>...</td>\n",
       "      <td>...</td>\n",
       "      <td>...</td>\n",
       "      <td>...</td>\n",
       "      <td>...</td>\n",
       "      <td>...</td>\n",
       "      <td>...</td>\n",
       "      <td>...</td>\n",
       "      <td>...</td>\n",
       "      <td>...</td>\n",
       "    </tr>\n",
       "    <tr>\n",
       "      <th>1725</th>\n",
       "      <td>996357</td>\n",
       "      <td>1</td>\n",
       "      <td>20211223</td>\n",
       "      <td>2</td>\n",
       "      <td>PETR4</td>\n",
       "      <td>10</td>\n",
       "      <td>PETROBRAS</td>\n",
       "      <td>PN      N2</td>\n",
       "      <td>NaN</td>\n",
       "      <td>R$</td>\n",
       "      <td>...</td>\n",
       "      <td>2833433810000</td>\n",
       "      <td>2871360000</td>\n",
       "      <td>812335</td>\n",
       "      <td>5</td>\n",
       "      <td>62000000</td>\n",
       "      <td>0</td>\n",
       "      <td>9999</td>\n",
       "      <td>123100000010</td>\n",
       "      <td>0</td>\n",
       "      <td>2021</td>\n",
       "    </tr>\n",
       "    <tr>\n",
       "      <th>1726</th>\n",
       "      <td>996358</td>\n",
       "      <td>1</td>\n",
       "      <td>20211227</td>\n",
       "      <td>2</td>\n",
       "      <td>PETR4</td>\n",
       "      <td>10</td>\n",
       "      <td>PETROBRAS</td>\n",
       "      <td>PN      N2</td>\n",
       "      <td>NaN</td>\n",
       "      <td>R$</td>\n",
       "      <td>...</td>\n",
       "      <td>2876460600000</td>\n",
       "      <td>4422790000</td>\n",
       "      <td>1265090</td>\n",
       "      <td>3</td>\n",
       "      <td>1000000</td>\n",
       "      <td>0</td>\n",
       "      <td>9999</td>\n",
       "      <td>123100000010</td>\n",
       "      <td>0</td>\n",
       "      <td>2021</td>\n",
       "    </tr>\n",
       "    <tr>\n",
       "      <th>1727</th>\n",
       "      <td>996359</td>\n",
       "      <td>1</td>\n",
       "      <td>20211228</td>\n",
       "      <td>2</td>\n",
       "      <td>PETR4</td>\n",
       "      <td>10</td>\n",
       "      <td>PETROBRAS</td>\n",
       "      <td>PN      N2</td>\n",
       "      <td>NaN</td>\n",
       "      <td>R$</td>\n",
       "      <td>...</td>\n",
       "      <td>2878431420000</td>\n",
       "      <td>3068810000</td>\n",
       "      <td>886001</td>\n",
       "      <td>6</td>\n",
       "      <td>99000000</td>\n",
       "      <td>0</td>\n",
       "      <td>9999</td>\n",
       "      <td>123100000010</td>\n",
       "      <td>0</td>\n",
       "      <td>2021</td>\n",
       "    </tr>\n",
       "    <tr>\n",
       "      <th>1728</th>\n",
       "      <td>996360</td>\n",
       "      <td>1</td>\n",
       "      <td>20211229</td>\n",
       "      <td>2</td>\n",
       "      <td>PETR4</td>\n",
       "      <td>10</td>\n",
       "      <td>PETROBRAS</td>\n",
       "      <td>PN      N2</td>\n",
       "      <td>NaN</td>\n",
       "      <td>R$</td>\n",
       "      <td>...</td>\n",
       "      <td>2854610880000</td>\n",
       "      <td>3550840000</td>\n",
       "      <td>1015407</td>\n",
       "      <td>3</td>\n",
       "      <td>91000000</td>\n",
       "      <td>0</td>\n",
       "      <td>9999</td>\n",
       "      <td>123100000010</td>\n",
       "      <td>0</td>\n",
       "      <td>2021</td>\n",
       "    </tr>\n",
       "    <tr>\n",
       "      <th>1729</th>\n",
       "      <td>996361</td>\n",
       "      <td>1</td>\n",
       "      <td>20211230</td>\n",
       "      <td>2</td>\n",
       "      <td>PETR4</td>\n",
       "      <td>10</td>\n",
       "      <td>PETROBRAS</td>\n",
       "      <td>PN      N2</td>\n",
       "      <td>NaN</td>\n",
       "      <td>R$</td>\n",
       "      <td>...</td>\n",
       "      <td>2846535320000</td>\n",
       "      <td>4322910000</td>\n",
       "      <td>1232775</td>\n",
       "      <td>6</td>\n",
       "      <td>60000000</td>\n",
       "      <td>0</td>\n",
       "      <td>9999</td>\n",
       "      <td>123100000010</td>\n",
       "      <td>0</td>\n",
       "      <td>2021</td>\n",
       "    </tr>\n",
       "  </tbody>\n",
       "</table>\n",
       "<p>1730 rows × 28 columns</p>\n",
       "</div>"
      ],
      "text/plain": [
       "       index  TIPREG    DTPREG  CODBDI CODNEG  TPMERC     NOMRES      ESPECI  \\\n",
       "0        905       1  20150102       2  PETR4      10  PETROBRAS          PN   \n",
       "1       2406       1  20150105       2  PETR4      10  PETROBRAS          PN   \n",
       "2       3976       1  20150106       2  PETR4      10  PETROBRAS          PN   \n",
       "3       5700       1  20150107       2  PETR4      10  PETROBRAS          PN   \n",
       "4       7292       1  20150108       2  PETR4      10  PETROBRAS          PN   \n",
       "...      ...     ...       ...     ...    ...     ...        ...         ...   \n",
       "1725  996357       1  20211223       2  PETR4      10  PETROBRAS  PN      N2   \n",
       "1726  996358       1  20211227       2  PETR4      10  PETROBRAS  PN      N2   \n",
       "1727  996359       1  20211228       2  PETR4      10  PETROBRAS  PN      N2   \n",
       "1728  996360       1  20211229       2  PETR4      10  PETROBRAS  PN      N2   \n",
       "1729  996361       1  20211230       2  PETR4      10  PETROBRAS  PN      N2   \n",
       "\n",
       "      PRAZOT MODREF  ...         QUATOT      VOLTOT   PREEXE  INDOPC  \\\n",
       "0        NaN     R$  ...   940397380000  4883720000   467547       9   \n",
       "1        NaN     R$  ...   861909810000  7707730000   674783       8   \n",
       "2        NaN     R$  ...   833772830000  8402340000   706839       8   \n",
       "3        NaN     R$  ...   868853080000  8553100000   733268       9   \n",
       "4        NaN     R$  ...   918866960000  8273570000   754338       6   \n",
       "...      ...    ...  ...            ...         ...      ...     ...   \n",
       "1725     NaN     R$  ...  2833433810000  2871360000   812335       5   \n",
       "1726     NaN     R$  ...  2876460600000  4422790000  1265090       3   \n",
       "1727     NaN     R$  ...  2878431420000  3068810000   886001       6   \n",
       "1728     NaN     R$  ...  2854610880000  3550840000  1015407       3   \n",
       "1729     NaN     R$  ...  2846535320000  4322910000  1232775       6   \n",
       "\n",
       "        DATVEN  FATCOT  PTOEXE        CODISI  DISMES  ANOPREG  \n",
       "0     25000000       0    9999  123100000010       0     2015  \n",
       "1     84000000       0    9999  123100000010       0     2015  \n",
       "2     84000000       0    9999  123100000010       0     2015  \n",
       "3     24000000       0    9999  123100000010       0     2015  \n",
       "4     35000000       0    9999  123100000010       0     2015  \n",
       "...        ...     ...     ...           ...     ...      ...  \n",
       "1725  62000000       0    9999  123100000010       0     2021  \n",
       "1726   1000000       0    9999  123100000010       0     2021  \n",
       "1727  99000000       0    9999  123100000010       0     2021  \n",
       "1728  91000000       0    9999  123100000010       0     2021  \n",
       "1729  60000000       0    9999  123100000010       0     2021  \n",
       "\n",
       "[1730 rows x 28 columns]"
      ]
     },
     "execution_count": 9,
     "metadata": {},
     "output_type": "execute_result"
    },
    {
     "data": {
      "text/plain": [
       "(1730, 28)"
      ]
     },
     "execution_count": 9,
     "metadata": {},
     "output_type": "execute_result"
    },
    {
     "data": {
      "text/plain": [
       "(1730, 29)"
      ]
     },
     "execution_count": 9,
     "metadata": {},
     "output_type": "execute_result"
    }
   ],
   "source": [
    "#pegando somente as ações da PETROBRAS que possuem informações mais completas\n",
    "df_pet = df.query(\"CODNEG=='PETR4'\")\n",
    "df_pet = df_pet.sort_values(['DTPREG','CODNEG'])\n",
    "df_pet = df_pet.reset_index()\n",
    "df_pet['ANOPREG']=df_pet['DTPREG'].apply(str).str[:4]\n",
    "df_pet.groupby('ANOPREG').count()\n",
    "df_pet\n",
    "df_pet.to_csv('..\\\\..\\\\data\\\\PETR4.csv')\n",
    "teste=pd.read_csv('..\\\\..\\\\data\\\\PETR4.csv')\n",
    "\n",
    "df_pet.shape\n",
    "teste.shape\n",
    "\n",
    "\n"
   ]
  },
  {
   "cell_type": "markdown",
   "id": "9151d83f",
   "metadata": {},
   "source": [
    "# A variável PREULT , indica o último valor do ativo no dia e será a variável de trabalho"
   ]
  },
  {
   "cell_type": "code",
   "execution_count": 13,
   "id": "f87cef64",
   "metadata": {},
   "outputs": [
    {
     "data": {
      "text/plain": [
       "0        9.57\n",
       "1        8.76\n",
       "2        8.41\n",
       "3        8.57\n",
       "4        9.11\n",
       "        ...  \n",
       "1725    28.29\n",
       "1726    28.60\n",
       "1727    28.87\n",
       "1728    28.59\n",
       "1729    28.51\n",
       "Name: PREULT, Length: 1730, dtype: float64"
      ]
     },
     "execution_count": 13,
     "metadata": {},
     "output_type": "execute_result"
    }
   ],
   "source": [
    "\n",
    "df_pet['PREULT']=df_pet['PREULT']/100000\n",
    "valores = df_pet['PREULT']\n",
    "valores"
   ]
  },
  {
   "cell_type": "markdown",
   "id": "f8c6d98d",
   "metadata": {},
   "source": [
    "# Vizualizando os dados"
   ]
  },
  {
   "cell_type": "code",
   "execution_count": 14,
   "id": "e3faba17",
   "metadata": {},
   "outputs": [
    {
     "data": {
      "text/plain": [
       "<Figure size 1800x900 with 0 Axes>"
      ]
     },
     "execution_count": 14,
     "metadata": {},
     "output_type": "execute_result"
    },
    {
     "data": {
      "text/plain": [
       "[<matplotlib.lines.Line2D at 0x1d30c9637f0>]"
      ]
     },
     "execution_count": 14,
     "metadata": {},
     "output_type": "execute_result"
    },
    {
     "data": {
      "text/plain": [
       "([<matplotlib.axis.XTick at 0x1d37b4503a0>,\n",
       "  <matplotlib.axis.XTick at 0x1d37b450370>,\n",
       "  <matplotlib.axis.XTick at 0x1d377cc3160>,\n",
       "  <matplotlib.axis.XTick at 0x1d30c936310>,\n",
       "  <matplotlib.axis.XTick at 0x1d30c936a30>,\n",
       "  <matplotlib.axis.XTick at 0x1d30c96a3a0>,\n",
       "  <matplotlib.axis.XTick at 0x1d30c96aa60>,\n",
       "  <matplotlib.axis.XTick at 0x1d30c9366a0>,\n",
       "  <matplotlib.axis.XTick at 0x1d30c96a130>],\n",
       " [Text(0, 0, '20150102'),\n",
       "  Text(200, 0, '20151022'),\n",
       "  Text(400, 0, '20160815'),\n",
       "  Text(600, 0, '20170606'),\n",
       "  Text(800, 0, '20180329'),\n",
       "  Text(1000, 0, '20190122'),\n",
       "  Text(1200, 0, '20191107'),\n",
       "  Text(1400, 0, '20200831'),\n",
       "  Text(1600, 0, '20210624')])"
      ]
     },
     "execution_count": 14,
     "metadata": {},
     "output_type": "execute_result"
    },
    {
     "data": {
      "text/plain": [
       "Text(0.5, 0, 'Datas')"
      ]
     },
     "execution_count": 14,
     "metadata": {},
     "output_type": "execute_result"
    },
    {
     "data": {
      "text/plain": [
       "Text(0, 0.5, 'Preço Final')"
      ]
     },
     "execution_count": 14,
     "metadata": {},
     "output_type": "execute_result"
    },
    {
     "data": {
      "text/plain": [
       "Text(0.5, 1.0, 'Histórico de Preço')"
      ]
     },
     "execution_count": 14,
     "metadata": {},
     "output_type": "execute_result"
    },
    {
     "data": {
      "image/png": "[encoded data removed]",
      "text/plain": [
       "<Figure size 1800x900 with 1 Axes>"
      ]
     },
     "metadata": {},
     "output_type": "display_data"
    }
   ],
   "source": [
    "import matplotlib.pyplot as plt\n",
    "\n",
    "plt.figure(figsize = (18,9))\n",
    "plt.plot(df_pet['PREULT'])\n",
    "plt.xticks(range(0,df_pet.shape[0],200), df_pet['DTPREG'].loc[::200], rotation=45)\n",
    "plt.xlabel('Datas', fontsize=18)\n",
    "plt.ylabel('Preço Final', fontsize=18)\n",
    "plt.title(\"Histórico de Preço\", fontsize=30)\n",
    "plt.show()"
   ]
  },
  {
   "cell_type": "markdown",
   "id": "08a02119",
   "metadata": {},
   "source": [
    "# A variável dias_input indica o número de dias que será utilizado como informação de entrada para a predição.\n",
    "\n",
    "## Dessa forma, para que o modelo possa predizer o valor do ativo em uma determinada data, irá utilizar como \"input\" os valores do ativo correspondentes aos \"dias_input\" anteriores."
   ]
  },
  {
   "cell_type": "code",
   "execution_count": 77,
   "id": "da0a35ef",
   "metadata": {},
   "outputs": [],
   "source": [
    "#número de dias utilizados para predição (input)\n",
    "dias_input = 15"
   ]
  },
  {
   "cell_type": "markdown",
   "id": "a614f0a9",
   "metadata": {},
   "source": [
    "# Separação entre teste e treino"
   ]
  },
  {
   "cell_type": "code",
   "execution_count": 78,
   "id": "0215653f",
   "metadata": {},
   "outputs": [
    {
     "data": {
      "text/plain": [
       "1643"
      ]
     },
     "execution_count": 78,
     "metadata": {},
     "output_type": "execute_result"
    },
    {
     "data": {
      "text/plain": [
       "87"
      ]
     },
     "execution_count": 78,
     "metadata": {},
     "output_type": "execute_result"
    },
    {
     "data": {
      "text/plain": [
       "((1643,), (87,), (102,))"
      ]
     },
     "execution_count": 78,
     "metadata": {},
     "output_type": "execute_result"
    },
    {
     "data": {
      "text/plain": [
       "array([26.28, 28.56, 28.31, 28.02, 28.52, 28.57, 28.94, 29.34, 28.7 ,\n",
       "       27.  , 26.98, 26.5 , 26.41, 27.11, 27.43, 27.62, 27.64, 28.13,\n",
       "       28.45, 27.53, 26.91, 26.88, 26.33, 26.51, 25.51, 24.82, 25.59,\n",
       "       26.11, 25.96, 26.18, 25.89, 25.16, 24.25, 25.01, 25.93, 26.59,\n",
       "       26.84, 27.17, 27.31, 27.28, 27.36, 27.69, 28.38, 29.26, 28.73,\n",
       "       28.7 , 29.13, 29.58, 29.49, 29.88, 29.63, 29.38, 28.41, 28.41,\n",
       "       27.45, 26.76, 28.6 , 28.91, 28.8 , 28.88, 27.83, 27.9 , 27.26,\n",
       "       26.24, 26.03, 26.22, 26.65, 26.62, 26.45, 26.54, 27.16, 26.97,\n",
       "       26.4 , 26.05, 26.76, 27.5 , 28.07, 29.33, 28.53, 29.4 , 29.29,\n",
       "       30.09, 27.61, 28.61, 29.01, 29.22, 29.57, 29.15, 29.69, 29.58,\n",
       "       29.36, 28.98, 29.74, 29.11, 28.04, 28.37, 28.16, 28.29, 28.6 ,\n",
       "       28.87, 28.59, 28.51])"
      ]
     },
     "execution_count": 78,
     "metadata": {},
     "output_type": "execute_result"
    }
   ],
   "source": [
    "import numpy as np\n",
    "\n",
    "tam_treino = int(len(valores) * 0.95)\n",
    "tam_teste = len(valores) - tam_treino\n",
    "tam_treino\n",
    "tam_teste\n",
    "\n",
    "dados_treino, dados_teste = np.array(valores[0:tam_treino]), np.array(valores[tam_treino - dias_input:])\n",
    "dados_valid = np.array(valores[tam_treino:])\n",
    "\n",
    "\n",
    "dados_treino.shape,  dados_valid.shape, dados_teste.shape\n",
    "dados_teste\n",
    "\n"
   ]
  },
  {
   "cell_type": "markdown",
   "id": "721ac468",
   "metadata": {},
   "source": [
    "# \"plotando\" o gráfico com séries de treino e input"
   ]
  },
  {
   "cell_type": "code",
   "execution_count": 79,
   "id": "8f9b39f0",
   "metadata": {},
   "outputs": [
    {
     "data": {
      "text/plain": [
       "<Figure size 1800x900 with 0 Axes>"
      ]
     },
     "execution_count": 79,
     "metadata": {},
     "output_type": "execute_result"
    },
    {
     "data": {
      "text/plain": [
       "[<matplotlib.lines.Line2D at 0x1d37c399580>]"
      ]
     },
     "execution_count": 79,
     "metadata": {},
     "output_type": "execute_result"
    },
    {
     "data": {
      "text/plain": [
       "[<matplotlib.lines.Line2D at 0x1d346035a30>]"
      ]
     },
     "execution_count": 79,
     "metadata": {},
     "output_type": "execute_result"
    },
    {
     "data": {
      "text/plain": [
       "([<matplotlib.axis.XTick at 0x1d37f2290a0>,\n",
       "  <matplotlib.axis.XTick at 0x1d37dfeaaf0>,\n",
       "  <matplotlib.axis.XTick at 0x1d37f22cf70>,\n",
       "  <matplotlib.axis.XTick at 0x1d378a6da60>,\n",
       "  <matplotlib.axis.XTick at 0x1d3151ef310>,\n",
       "  <matplotlib.axis.XTick at 0x1d3151ef460>,\n",
       "  <matplotlib.axis.XTick at 0x1d37c39d850>,\n",
       "  <matplotlib.axis.XTick at 0x1d303fbaca0>,\n",
       "  <matplotlib.axis.XTick at 0x1d30b766f40>,\n",
       "  <matplotlib.axis.XTick at 0x1d30b766100>,\n",
       "  <matplotlib.axis.XTick at 0x1d300de0610>,\n",
       "  <matplotlib.axis.XTick at 0x1d300dd0a30>,\n",
       "  <matplotlib.axis.XTick at 0x1d30b7660d0>,\n",
       "  <matplotlib.axis.XTick at 0x1d37c39daf0>,\n",
       "  <matplotlib.axis.XTick at 0x1d300dd0280>,\n",
       "  <matplotlib.axis.XTick at 0x1d300dd0760>,\n",
       "  <matplotlib.axis.XTick at 0x1d379e1cfa0>,\n",
       "  <matplotlib.axis.XTick at 0x1d300ddc760>,\n",
       "  <matplotlib.axis.XTick at 0x1d300ddc0d0>,\n",
       "  <matplotlib.axis.XTick at 0x1d300dd0160>],\n",
       " [Text(0, 0, '20150102'),\n",
       "  Text(90, 0, '20150515'),\n",
       "  Text(180, 0, '20150923'),\n",
       "  Text(270, 0, '20160210'),\n",
       "  Text(360, 0, '20160620'),\n",
       "  Text(450, 0, '20161026'),\n",
       "  Text(540, 0, '20170309'),\n",
       "  Text(630, 0, '20170719'),\n",
       "  Text(720, 0, '20171129'),\n",
       "  Text(810, 0, '20180413'),\n",
       "  Text(900, 0, '20180822'),\n",
       "  Text(990, 0, '20190108'),\n",
       "  Text(1080, 0, '20190521'),\n",
       "  Text(1170, 0, '20190926'),\n",
       "  Text(1260, 0, '20200207'),\n",
       "  Text(1350, 0, '20200622'),\n",
       "  Text(1440, 0, '20201028'),\n",
       "  Text(1530, 0, '20210315'),\n",
       "  Text(1620, 0, '20210723'),\n",
       "  Text(1710, 0, '20211202')])"
      ]
     },
     "execution_count": 79,
     "metadata": {},
     "output_type": "execute_result"
    },
    {
     "data": {
      "text/plain": [
       "Text(0.5, 0, 'Datas')"
      ]
     },
     "execution_count": 79,
     "metadata": {},
     "output_type": "execute_result"
    },
    {
     "data": {
      "text/plain": [
       "Text(0, 0.5, 'Preço Final')"
      ]
     },
     "execution_count": 79,
     "metadata": {},
     "output_type": "execute_result"
    },
    {
     "data": {
      "text/plain": [
       "Text(0.5, 1.0, 'Histórico de Preço')"
      ]
     },
     "execution_count": 79,
     "metadata": {},
     "output_type": "execute_result"
    },
    {
     "data": {
      "text/plain": [
       "<matplotlib.legend.Legend at 0x1d392cafaf0>"
      ]
     },
     "execution_count": 79,
     "metadata": {},
     "output_type": "execute_result"
    },
    {
     "data": {
      "image/png": "[encoded data removed]",
      "text/plain": [
       "<Figure size 1800x900 with 1 Axes>"
      ]
     },
     "metadata": {},
     "output_type": "display_data"
    }
   ],
   "source": [
    "import matplotlib.pyplot as plt\n",
    "\n",
    "intervalo = 90\n",
    "\n",
    "\n",
    "plt.figure(figsize = (18,9))\n",
    "plt.plot(df_pet['PREULT'].loc[0:tam_treino], color = 'blue', label = 'treino')\n",
    "plt.plot(df_pet['PREULT'].loc[tam_treino:], color = 'red', label = 'teste')\n",
    "plt.xticks(range(0,len(df_pet),intervalo), df_pet['DTPREG'].loc[::intervalo], rotation=45)\n",
    "plt.xlabel('Datas', fontsize=18)\n",
    "plt.ylabel('Preço Final', fontsize=18)\n",
    "plt.title(\"Histórico de Preço\", fontsize=30)\n",
    "plt.legend()\n",
    "plt.show()\n",
    "\n",
    "\n"
   ]
  },
  {
   "cell_type": "markdown",
   "id": "e3551c00",
   "metadata": {},
   "source": [
    "# Normalização dos dados\n"
   ]
  },
  {
   "cell_type": "code",
   "execution_count": 80,
   "id": "ae2337e0",
   "metadata": {},
   "outputs": [
    {
     "data": {
      "text/plain": [
       "(1643, 1)"
      ]
     },
     "execution_count": 80,
     "metadata": {},
     "output_type": "execute_result"
    },
    {
     "data": {
      "text/plain": [
       "(102, 1)"
      ]
     },
     "execution_count": 80,
     "metadata": {},
     "output_type": "execute_result"
    },
    {
     "data": {
      "text/plain": [
       "(87, 1)"
      ]
     },
     "execution_count": 80,
     "metadata": {},
     "output_type": "execute_result"
    },
    {
     "data": {
      "text/plain": [
       "(102, 1)"
      ]
     },
     "execution_count": 80,
     "metadata": {},
     "output_type": "execute_result"
    }
   ],
   "source": [
    "from sklearn.preprocessing import MinMaxScaler\n",
    "scaler = MinMaxScaler(feature_range=(0,1))\n",
    "dados_treino_z = scaler.fit_transform(np.array(dados_treino).reshape(-1,1))\n",
    "dados_teste_z = scaler.transform(np.array(dados_teste).reshape(-1,1))\n",
    "dados_valid_z = scaler.transform(np.array(dados_valid).reshape(-1,1))\n",
    "\n",
    "dados_treino_z.shape\n",
    "dados_teste_z.shape\n",
    "dados_valid_z.shape\n",
    "\n",
    "dados_teste_z.shape\n"
   ]
  },
  {
   "cell_type": "markdown",
   "id": "552fce0f",
   "metadata": {},
   "source": [
    "# Gerando os dados \"input\" e \"target\" necessários para treinar o modelo"
   ]
  },
  {
   "cell_type": "code",
   "execution_count": 81,
   "id": "0182b13e",
   "metadata": {},
   "outputs": [
    {
     "data": {
      "text/plain": [
       "(1628, 15, 1)"
      ]
     },
     "execution_count": 81,
     "metadata": {},
     "output_type": "execute_result"
    },
    {
     "data": {
      "text/plain": [
       "(1628, 1)"
      ]
     },
     "execution_count": 81,
     "metadata": {},
     "output_type": "execute_result"
    },
    {
     "data": {
      "text/plain": [
       "(87, 15, 1)"
      ]
     },
     "execution_count": 81,
     "metadata": {},
     "output_type": "execute_result"
    },
    {
     "data": {
      "text/plain": [
       "(72, 15, 1)"
      ]
     },
     "execution_count": 81,
     "metadata": {},
     "output_type": "execute_result"
    },
    {
     "data": {
      "text/plain": [
       "(72, 1)"
      ]
     },
     "execution_count": 81,
     "metadata": {},
     "output_type": "execute_result"
    }
   ],
   "source": [
    "#treino\n",
    "input_treino, target_treino = [], []\n",
    "for i in range(dias_input, len(dados_treino_z)):\n",
    "    input_treino.append(dados_treino_z[i-dias_input:i])\n",
    "    target_treino.append(dados_treino_z[i])\n",
    "\n",
    "\n",
    "#teste\n",
    "input_teste = []\n",
    "for i in range(dias_input,len(dados_teste_z)):\n",
    "    input_teste.append(dados_teste_z[i-dias_input:i]) \n",
    "    \n",
    "#val\n",
    "input_valid, target_valid = [], []\n",
    "for i in range(dias_input, len(dados_valid_z)):\n",
    "    input_valid.append(dados_valid_z[i-dias_input:i])\n",
    "    target_valid.append(dados_valid_z[i])\n",
    "\n",
    "#converter tudo pra matriz numpy\n",
    "input_treino = np.array(input_treino)\n",
    "target_treino = np.array(target_treino)\n",
    "input_teste = np.array(input_teste)\n",
    "input_valid = np.array(input_valid)\n",
    "target_valid = np.array(target_valid)\n",
    "\n",
    "\n",
    "input_treino.shape\n",
    "target_treino.shape\n",
    "input_teste.shape\n",
    "input_valid.shape\n",
    "target_valid.shape\n",
    "\n",
    "    "
   ]
  },
  {
   "cell_type": "markdown",
   "id": "4e769924",
   "metadata": {},
   "source": [
    "   # Definição dos hiper parâmetros do modelo   "
   ]
  },
  {
   "cell_type": "code",
   "execution_count": 82,
   "id": "e33f40fb",
   "metadata": {},
   "outputs": [
    {
     "name": "stdout",
     "output_type": "stream",
     "text": [
      "Model: \"sequential_3\"\n",
      "_________________________________________________________________\n",
      " Layer (type)                Output Shape              Param #   \n",
      "=================================================================\n",
      " lstm_6 (LSTM)               (None, 15, 100)           40800     \n",
      "                                                                 \n",
      " lstm_7 (LSTM)               (None, 100)               80400     \n",
      "                                                                 \n",
      " dense_3 (Dense)             (None, 1)                 101       \n",
      "                                                                 \n",
      "=================================================================\n",
      "Total params: 121,301\n",
      "Trainable params: 121,301\n",
      "Non-trainable params: 0\n",
      "_________________________________________________________________\n"
     ]
    }
   ],
   "source": [
    "import tensorflow as tf\n",
    "from tensorflow.keras.models import Sequential\n",
    "from tensorflow.keras.layers import Dense, Dropout, LSTM\n",
    "from tensorflow.keras.optimizers import SGD\n",
    "\n",
    "modelo = Sequential()\n",
    "modelo.add(LSTM(100, return_sequences=True, input_shape=(dias_input, 1)))\n",
    "#model.add(Dropout(0.3))\n",
    "modelo.add(LSTM(100, return_sequences=False, input_shape=(dias_input, 1)))\n",
    "#model.add(Dropout(0.3))\n",
    "modelo.add(Dense(1))\n",
    "modelo.compile(loss='mse', optimizer='adam')\n",
    "\n",
    "modelo.summary()\n",
    "\n"
   ]
  },
  {
   "cell_type": "markdown",
   "id": "1cb81b14",
   "metadata": {},
   "source": [
    "# Realizando o treinamento do modelo"
   ]
  },
  {
   "cell_type": "code",
   "execution_count": 87,
   "id": "837f6c08",
   "metadata": {},
   "outputs": [
    {
     "name": "stdout",
     "output_type": "stream",
     "text": [
      "Epoch 1/3\n",
      "814/814 [==============================] - 13s 16ms/step - loss: 5.6881e-04 - val_loss: 0.0010\n",
      "Epoch 2/3\n",
      "814/814 [==============================] - 12s 15ms/step - loss: 5.8636e-04 - val_loss: 9.9608e-04\n",
      "Epoch 3/3\n",
      "814/814 [==============================] - 12s 15ms/step - loss: 5.6933e-04 - val_loss: 9.2100e-04\n"
     ]
    }
   ],
   "source": [
    "hist_modelo = modelo.fit(input_treino, target_treino, validation_data = (input_valid, target_valid), epochs=3, batch_size=2)\n",
    "\n"
   ]
  },
  {
   "cell_type": "markdown",
   "id": "558df081",
   "metadata": {},
   "source": [
    "# Análise do histórico de treinamento"
   ]
  },
  {
   "cell_type": "code",
   "execution_count": 88,
   "id": "0a581706",
   "metadata": {},
   "outputs": [
    {
     "data": {
      "text/plain": [
       "[<matplotlib.lines.Line2D at 0x1d327d20d60>]"
      ]
     },
     "execution_count": 88,
     "metadata": {},
     "output_type": "execute_result"
    },
    {
     "data": {
      "text/plain": [
       "[<matplotlib.lines.Line2D at 0x1d327d0d1c0>]"
      ]
     },
     "execution_count": 88,
     "metadata": {},
     "output_type": "execute_result"
    },
    {
     "data": {
      "text/plain": [
       "<matplotlib.legend.Legend at 0x1d379432dc0>"
      ]
     },
     "execution_count": 88,
     "metadata": {},
     "output_type": "execute_result"
    },
    {
     "data": {
      "image/png": "[encoded data removed]",
      "text/plain": [
       "<Figure size 640x480 with 1 Axes>"
      ]
     },
     "metadata": {},
     "output_type": "display_data"
    }
   ],
   "source": [
    "import matplotlib.pyplot as plt\n",
    "\n",
    "plt.plot(hist_modelo.history[\"loss\"], label='loss')\n",
    "plt.plot(hist_modelo.history[\"val_loss\"], label='val_loss')\n",
    "plt.legend()"
   ]
  },
  {
   "cell_type": "markdown",
   "id": "fb876e44",
   "metadata": {},
   "source": [
    "# Realização da predição dos dados de teste"
   ]
  },
  {
   "cell_type": "code",
   "execution_count": 89,
   "id": "eac863da",
   "metadata": {},
   "outputs": [
    {
     "name": "stdout",
     "output_type": "stream",
     "text": [
      "3/3 [==============================] - 1s 13ms/step\n"
     ]
    },
    {
     "data": {
      "text/plain": [
       "(87, 1)"
      ]
     },
     "execution_count": 89,
     "metadata": {},
     "output_type": "execute_result"
    },
    {
     "data": {
      "text/plain": [
       "(87, 15, 1)"
      ]
     },
     "execution_count": 89,
     "metadata": {},
     "output_type": "execute_result"
    },
    {
     "data": {
      "text/plain": [
       "(102, 1)"
      ]
     },
     "execution_count": 89,
     "metadata": {},
     "output_type": "execute_result"
    },
    {
     "data": {
      "text/plain": [
       "array([[0.8804576 ],\n",
       "       [0.8900508 ],\n",
       "       [0.8901021 ],\n",
       "       [0.9141491 ],\n",
       "       [0.9225989 ],\n",
       "       [0.8768377 ],\n",
       "       [0.8601832 ],\n",
       "       [0.8603037 ],\n",
       "       [0.8328956 ],\n",
       "       [0.8477388 ],\n",
       "       [0.79760486],\n",
       "       [0.77877194],\n",
       "       [0.8165903 ],\n",
       "       [0.8326116 ],\n",
       "       [0.82478577],\n",
       "       [0.8388293 ],\n",
       "       [0.8225398 ],\n",
       "       [0.79332715],\n",
       "       [0.757542  ],\n",
       "       [0.79701775],\n",
       "       [0.82970625],\n",
       "       [0.8550909 ],\n",
       "       [0.8631641 ],\n",
       "       [0.87826055],\n",
       "       [0.88106436],\n",
       "       [0.8786239 ],\n",
       "       [0.8820986 ],\n",
       "       [0.89548427],\n",
       "       [0.92378455],\n",
       "       [0.95792294],\n",
       "       [0.9227287 ],\n",
       "       [0.93299204],\n",
       "       [0.9485965 ],\n",
       "       [0.9647025 ],\n",
       "       [0.9552417 ],\n",
       "       [0.9775318 ],\n",
       "       [0.95740145],\n",
       "       [0.95191085],\n",
       "       [0.9057365 ],\n",
       "       [0.91862017],\n",
       "       [0.86718845],\n",
       "       [0.84928846],\n",
       "       [0.939683  ],\n",
       "       [0.9299956 ],\n",
       "       [0.9323575 ],\n",
       "       [0.9371337 ],\n",
       "       [0.88565683],\n",
       "       [0.90338343],\n",
       "       [0.86544174],\n",
       "       [0.82779443],\n",
       "       [0.8258781 ],\n",
       "       [0.8337546 ],\n",
       "       [0.852571  ],\n",
       "       [0.84847426],\n",
       "       [0.8437806 ],\n",
       "       [0.8499995 ],\n",
       "       [0.8776878 ],\n",
       "       [0.8620896 ],\n",
       "       [0.8405532 ],\n",
       "       [0.8288284 ],\n",
       "       [0.86298615],\n",
       "       [0.88856024],\n",
       "       [0.91032356],\n",
       "       [0.966372  ],\n",
       "       [0.9120413 ],\n",
       "       [0.97233135],\n",
       "       [0.9455622 ],\n",
       "       [0.9932354 ],\n",
       "       [0.8567951 ],\n",
       "       [0.94554865],\n",
       "       [0.93344426],\n",
       "       [0.94892085],\n",
       "       [0.96196276],\n",
       "       [0.9386051 ],\n",
       "       [0.97299117],\n",
       "       [0.9558753 ],\n",
       "       [0.9514639 ],\n",
       "       [0.9337958 ],\n",
       "       [0.97533524],\n",
       "       [0.930751  ],\n",
       "       [0.89478254],\n",
       "       [0.9195381 ],\n",
       "       [0.9006317 ],\n",
       "       [0.91334826],\n",
       "       [0.92491436],\n",
       "       [0.9357068 ],\n",
       "       [0.9202638 ]], dtype=float32)"
      ]
     },
     "execution_count": 89,
     "metadata": {},
     "output_type": "execute_result"
    }
   ],
   "source": [
    "resultado_z = modelo.predict(input_teste)\n",
    "\n",
    "\n",
    "\n",
    "resultado_z.shape\n",
    "input_teste.shape\n",
    "dados_teste_z.shape\n",
    "resultado_z"
   ]
  },
  {
   "cell_type": "markdown",
   "id": "dbb5111d",
   "metadata": {},
   "source": [
    "# Análise dos resultados"
   ]
  },
  {
   "cell_type": "code",
   "execution_count": 90,
   "id": "cd15b145",
   "metadata": {},
   "outputs": [
    {
     "data": {
      "text/plain": [
       "(87, 1)"
      ]
     },
     "execution_count": 90,
     "metadata": {},
     "output_type": "execute_result"
    },
    {
     "data": {
      "text/plain": [
       "(88,)"
      ]
     },
     "execution_count": 90,
     "metadata": {},
     "output_type": "execute_result"
    },
    {
     "data": {
      "text/plain": [
       "(102,)"
      ]
     },
     "execution_count": 90,
     "metadata": {},
     "output_type": "execute_result"
    },
    {
     "data": {
      "text/plain": [
       "(102, 1)"
      ]
     },
     "execution_count": 90,
     "metadata": {},
     "output_type": "execute_result"
    }
   ],
   "source": [
    "resultado = scaler.inverse_transform(resultado_z)\n",
    "real = scaler.inverse_transform(dados_teste_z)\n",
    "real = dados_teste[dias_input-1:]\n",
    "\n",
    "\n",
    "resultado.shape\n",
    "real.shape\n",
    "dados_teste.shape\n",
    "dados_teste_z.shape"
   ]
  },
  {
   "cell_type": "code",
   "execution_count": 91,
   "id": "04a3d5ac",
   "metadata": {},
   "outputs": [
    {
     "data": {
      "text/plain": [
       "<Figure size 1800x900 with 0 Axes>"
      ]
     },
     "execution_count": 91,
     "metadata": {},
     "output_type": "execute_result"
    },
    {
     "data": {
      "text/plain": [
       "[<matplotlib.lines.Line2D at 0x1d3235820a0>]"
      ]
     },
     "execution_count": 91,
     "metadata": {},
     "output_type": "execute_result"
    },
    {
     "data": {
      "text/plain": [
       "[<matplotlib.lines.Line2D at 0x1d323582460>]"
      ]
     },
     "execution_count": 91,
     "metadata": {},
     "output_type": "execute_result"
    },
    {
     "data": {
      "text/plain": [
       "([<matplotlib.axis.XTick at 0x1d3167ffee0>,\n",
       "  <matplotlib.axis.XTick at 0x1d3167ffeb0>,\n",
       "  <matplotlib.axis.XTick at 0x1d3167ff5b0>,\n",
       "  <matplotlib.axis.XTick at 0x1d323582df0>,\n",
       "  <matplotlib.axis.XTick at 0x1d3235af580>,\n",
       "  <matplotlib.axis.XTick at 0x1d3235afcd0>,\n",
       "  <matplotlib.axis.XTick at 0x1d3235af850>,\n",
       "  <matplotlib.axis.XTick at 0x1d3235a5310>,\n",
       "  <matplotlib.axis.XTick at 0x1d3235a5a90>,\n",
       "  <matplotlib.axis.XTick at 0x1d32358c220>,\n",
       "  <matplotlib.axis.XTick at 0x1d32358c970>,\n",
       "  <matplotlib.axis.XTick at 0x1d32359c100>,\n",
       "  <matplotlib.axis.XTick at 0x1d32358cd60>,\n",
       "  <matplotlib.axis.XTick at 0x1d3235a5d30>,\n",
       "  <matplotlib.axis.XTick at 0x1d32359c9a0>,\n",
       "  <matplotlib.axis.XTick at 0x1d32359cdf0>,\n",
       "  <matplotlib.axis.XTick at 0x1d323587580>,\n",
       "  <matplotlib.axis.XTick at 0x1d323587cd0>],\n",
       " [Text(0, 0, '20210825'),\n",
       "  Text(5, 0, '20210901'),\n",
       "  Text(10, 0, '20210909'),\n",
       "  Text(15, 0, '20210916'),\n",
       "  Text(20, 0, '20210923'),\n",
       "  Text(25, 0, '20210930'),\n",
       "  Text(30, 0, '20211007'),\n",
       "  Text(35, 0, '20211015'),\n",
       "  Text(40, 0, '20211022'),\n",
       "  Text(45, 0, '20211029'),\n",
       "  Text(50, 0, '20211108'),\n",
       "  Text(55, 0, '20211116'),\n",
       "  Text(60, 0, '20211123'),\n",
       "  Text(65, 0, '20211130'),\n",
       "  Text(70, 0, '20211207'),\n",
       "  Text(75, 0, '20211214'),\n",
       "  Text(80, 0, '20211221'),\n",
       "  Text(85, 0, '20211229')])"
      ]
     },
     "execution_count": 91,
     "metadata": {},
     "output_type": "execute_result"
    },
    {
     "data": {
      "text/plain": [
       "Text(0.5, 0, 'Datas')"
      ]
     },
     "execution_count": 91,
     "metadata": {},
     "output_type": "execute_result"
    },
    {
     "data": {
      "text/plain": [
       "Text(0, 0.5, 'Preço Final')"
      ]
     },
     "execution_count": 91,
     "metadata": {},
     "output_type": "execute_result"
    },
    {
     "data": {
      "text/plain": [
       "Text(0.5, 1.0, 'Projeção de Preço')"
      ]
     },
     "execution_count": 91,
     "metadata": {},
     "output_type": "execute_result"
    },
    {
     "data": {
      "text/plain": [
       "<matplotlib.legend.Legend at 0x1d323587f70>"
      ]
     },
     "execution_count": 91,
     "metadata": {},
     "output_type": "execute_result"
    },
    {
     "data": {
      "image/png": "[encoded data removed]",
      "text/plain": [
       "<Figure size 1800x900 with 1 Axes>"
      ]
     },
     "metadata": {},
     "output_type": "display_data"
    }
   ],
   "source": [
    "\n",
    "\n",
    "\n",
    "plt.figure(figsize = (18,9))\n",
    "#plt.plot(dados_teste[:len(dados_teste)-dias_input], color = 'green', label = 'real')\n",
    "plt.plot(real, color = 'green', label = 'real')\n",
    "plt.plot(resultado, color = 'yellow', label = 'previsão')\n",
    "#plt.xticks(range(0, len(dados_teste), 50), df_pet['Date'].iloc[- len(real)::50], rotation=45)\n",
    "plt.xticks(range(0,len(input_teste),5), df_pet['DTPREG'].iloc[-len(input_teste)::5], rotation=45)\n",
    "plt.xlabel('Datas', fontsize=18)\n",
    "plt.ylabel('Preço Final', fontsize=18)\n",
    "plt.title(\"Projeção de Preço\", fontsize=30)\n",
    "plt.legend()\n",
    "plt.show()"
   ]
  },
  {
   "cell_type": "markdown",
   "id": "e5c786e3",
   "metadata": {},
   "source": [
    "# realizando a predição dia a dia para atualizar os inputs"
   ]
  },
  {
   "cell_type": "code",
   "execution_count": 92,
   "id": "22cd030d",
   "metadata": {},
   "outputs": [
    {
     "name": "stdout",
     "output_type": "stream",
     "text": [
      "1/1 [==============================] - 0s 28ms/step\n",
      "1/1 [==============================] - 0s 30ms/step\n",
      "1/1 [==============================] - 0s 31ms/step\n",
      "1/1 [==============================] - 0s 31ms/step\n",
      "1/1 [==============================] - 0s 39ms/step\n",
      "1/1 [==============================] - 0s 36ms/step\n",
      "1/1 [==============================] - 0s 33ms/step\n",
      "1/1 [==============================] - 0s 62ms/step\n",
      "1/1 [==============================] - 0s 48ms/step\n",
      "1/1 [==============================] - 0s 30ms/step\n",
      "1/1 [==============================] - 0s 27ms/step\n",
      "1/1 [==============================] - 0s 28ms/step\n",
      "1/1 [==============================] - 0s 29ms/step\n",
      "1/1 [==============================] - 0s 34ms/step\n",
      "1/1 [==============================] - 0s 29ms/step\n",
      "1/1 [==============================] - 0s 30ms/step\n",
      "1/1 [==============================] - 0s 29ms/step\n",
      "1/1 [==============================] - 0s 28ms/step\n",
      "1/1 [==============================] - 0s 29ms/step\n",
      "1/1 [==============================] - 0s 29ms/step\n",
      "1/1 [==============================] - 0s 29ms/step\n",
      "1/1 [==============================] - 0s 38ms/step\n",
      "1/1 [==============================] - 0s 35ms/step\n",
      "1/1 [==============================] - 0s 45ms/step\n",
      "1/1 [==============================] - 0s 32ms/step\n",
      "1/1 [==============================] - 0s 33ms/step\n",
      "1/1 [==============================] - 0s 28ms/step\n",
      "1/1 [==============================] - 0s 27ms/step\n",
      "1/1 [==============================] - 0s 29ms/step\n",
      "1/1 [==============================] - 0s 29ms/step\n",
      "1/1 [==============================] - 0s 30ms/step\n",
      "1/1 [==============================] - 0s 29ms/step\n",
      "1/1 [==============================] - 0s 29ms/step\n",
      "1/1 [==============================] - 0s 27ms/step\n",
      "1/1 [==============================] - 0s 30ms/step\n",
      "1/1 [==============================] - 0s 31ms/step\n",
      "1/1 [==============================] - 0s 30ms/step\n",
      "1/1 [==============================] - 0s 30ms/step\n",
      "1/1 [==============================] - 0s 28ms/step\n",
      "1/1 [==============================] - 0s 30ms/step\n",
      "1/1 [==============================] - 0s 28ms/step\n",
      "1/1 [==============================] - 0s 28ms/step\n",
      "1/1 [==============================] - 0s 29ms/step\n",
      "1/1 [==============================] - 0s 27ms/step\n",
      "1/1 [==============================] - 0s 29ms/step\n",
      "1/1 [==============================] - 0s 28ms/step\n",
      "1/1 [==============================] - 0s 29ms/step\n",
      "1/1 [==============================] - 0s 28ms/step\n",
      "1/1 [==============================] - 0s 28ms/step\n",
      "1/1 [==============================] - 0s 28ms/step\n",
      "1/1 [==============================] - 0s 27ms/step\n",
      "1/1 [==============================] - 0s 33ms/step\n",
      "1/1 [==============================] - 0s 28ms/step\n",
      "1/1 [==============================] - 0s 30ms/step\n",
      "1/1 [==============================] - 0s 29ms/step\n",
      "1/1 [==============================] - 0s 28ms/step\n",
      "1/1 [==============================] - 0s 29ms/step\n",
      "1/1 [==============================] - 0s 31ms/step\n",
      "1/1 [==============================] - 0s 37ms/step\n",
      "1/1 [==============================] - 0s 46ms/step\n",
      "1/1 [==============================] - 0s 32ms/step\n",
      "1/1 [==============================] - 0s 35ms/step\n",
      "1/1 [==============================] - 0s 43ms/step\n",
      "1/1 [==============================] - 0s 41ms/step\n",
      "1/1 [==============================] - 0s 33ms/step\n",
      "1/1 [==============================] - 0s 32ms/step\n",
      "1/1 [==============================] - 0s 41ms/step\n",
      "1/1 [==============================] - 0s 42ms/step\n",
      "1/1 [==============================] - 0s 34ms/step\n",
      "1/1 [==============================] - 0s 29ms/step\n",
      "1/1 [==============================] - 0s 28ms/step\n",
      "1/1 [==============================] - 0s 31ms/step\n",
      "1/1 [==============================] - 0s 29ms/step\n",
      "1/1 [==============================] - 0s 36ms/step\n",
      "1/1 [==============================] - 0s 28ms/step\n",
      "1/1 [==============================] - 0s 28ms/step\n",
      "1/1 [==============================] - 0s 30ms/step\n",
      "1/1 [==============================] - 0s 28ms/step\n",
      "1/1 [==============================] - 0s 32ms/step\n",
      "1/1 [==============================] - 0s 31ms/step\n",
      "1/1 [==============================] - 0s 29ms/step\n",
      "1/1 [==============================] - 0s 30ms/step\n",
      "1/1 [==============================] - 0s 29ms/step\n",
      "1/1 [==============================] - 0s 29ms/step\n",
      "1/1 [==============================] - 0s 31ms/step\n",
      "1/1 [==============================] - 0s 31ms/step\n",
      "1/1 [==============================] - 0s 30ms/step\n",
      "1/1 [==============================] - 0s 29ms/step\n",
      "1/1 [==============================] - 0s 30ms/step\n",
      "1/1 [==============================] - 0s 31ms/step\n",
      "1/1 [==============================] - 0s 29ms/step\n",
      "1/1 [==============================] - 0s 29ms/step\n",
      "1/1 [==============================] - 0s 30ms/step\n",
      "1/1 [==============================] - 0s 29ms/step\n",
      "1/1 [==============================] - 0s 29ms/step\n",
      "1/1 [==============================] - 0s 28ms/step\n",
      "1/1 [==============================] - 0s 30ms/step\n",
      "1/1 [==============================] - 0s 35ms/step\n",
      "1/1 [==============================] - 0s 31ms/step\n",
      "1/1 [==============================] - 0s 29ms/step\n",
      "1/1 [==============================] - 0s 29ms/step\n",
      "1/1 [==============================] - 0s 31ms/step\n"
     ]
    },
    {
     "data": {
      "text/plain": [
       "array([[27.839092],\n",
       "       [28.375341],\n",
       "       [28.961197],\n",
       "       [29.582897],\n",
       "       [30.226305],\n",
       "       [30.876364],\n",
       "       [31.519575],\n",
       "       [32.144115],\n",
       "       [32.73994 ],\n",
       "       [33.30013 ],\n",
       "       [33.821293],\n",
       "       [34.30002 ],\n",
       "       [34.734226],\n",
       "       [35.123302],\n",
       "       [35.46699 ],\n",
       "       [35.766426],\n",
       "       [36.023865],\n",
       "       [36.242157],\n",
       "       [36.42455 ],\n",
       "       [36.574593],\n",
       "       [36.695972],\n",
       "       [36.79236 ],\n",
       "       [36.86734 ],\n",
       "       [36.924267],\n",
       "       [36.966225],\n",
       "       [36.99601 ],\n",
       "       [37.016083],\n",
       "       [37.0286  ],\n",
       "       [37.03536 ],\n",
       "       [37.03788 ],\n",
       "       [37.037403],\n",
       "       [37.03492 ],\n",
       "       [37.03119 ],\n",
       "       [37.026806],\n",
       "       [37.022213],\n",
       "       [37.017715],\n",
       "       [37.013523],\n",
       "       [37.00974 ],\n",
       "       [37.006435],\n",
       "       [37.003643],\n",
       "       [37.00135 ],\n",
       "       [36.999508],\n",
       "       [36.99808 ],\n",
       "       [36.996994],\n",
       "       [36.99621 ],\n",
       "       [36.995697],\n",
       "       [36.995384],\n",
       "       [36.99521 ],\n",
       "       [36.995163],\n",
       "       [36.99519 ],\n",
       "       [36.995277],\n",
       "       [36.99539 ],\n",
       "       [36.995533],\n",
       "       [36.995693],\n",
       "       [36.99585 ],\n",
       "       [36.996   ],\n",
       "       [36.996128],\n",
       "       [36.996223],\n",
       "       [36.996307],\n",
       "       [36.996384],\n",
       "       [36.996445],\n",
       "       [36.996487],\n",
       "       [36.99652 ],\n",
       "       [36.996544],\n",
       "       [36.996563],\n",
       "       [36.996567],\n",
       "       [36.996563],\n",
       "       [36.996563],\n",
       "       [36.996567],\n",
       "       [36.996563],\n",
       "       [36.99656 ],\n",
       "       [36.996555],\n",
       "       [36.996555],\n",
       "       [36.996555],\n",
       "       [36.996555],\n",
       "       [36.996555],\n",
       "       [36.996555],\n",
       "       [36.996555],\n",
       "       [36.996555],\n",
       "       [36.996555],\n",
       "       [36.99655 ],\n",
       "       [36.99655 ],\n",
       "       [36.99655 ],\n",
       "       [36.99655 ],\n",
       "       [36.99655 ],\n",
       "       [36.996548],\n",
       "       [36.996548],\n",
       "       [36.996548],\n",
       "       [36.996548],\n",
       "       [36.996548],\n",
       "       [36.996548],\n",
       "       [36.996548],\n",
       "       [36.996548],\n",
       "       [36.996544],\n",
       "       [36.996544],\n",
       "       [36.996544],\n",
       "       [36.996544],\n",
       "       [36.996544],\n",
       "       [36.996544],\n",
       "       [36.996544],\n",
       "       [36.996544],\n",
       "       [36.996548]], dtype=float32)"
      ]
     },
     "execution_count": 92,
     "metadata": {},
     "output_type": "execute_result"
    }
   ],
   "source": [
    "input_pred = input_teste[0:1].copy() #pega o primeiro dia do conjunto de teste\n",
    "predicoes = []\n",
    "for i in range(len(dados_teste)):\n",
    "    \n",
    "    resultado = modelo.predict(input_pred)\n",
    "    predicoes.append(resultado[0, 0])\n",
    "    \n",
    "    #remove primeiro preço da sequência\n",
    "    temp = np.delete(input_pred[0], 0)\n",
    "\n",
    "    #insere último preço da sequência\n",
    "    temp = np.append(temp, resultado)\n",
    "    \n",
    "    #recoloca no formato tensorflow\n",
    "    input_pred[0] = np.reshape(temp, (dias_input, 1))\n",
    "    \n",
    "predicoes = scaler.inverse_transform(np.array(predicoes).reshape(-1, 1))\n",
    "\n",
    "predicoes"
   ]
  },
  {
   "cell_type": "code",
   "execution_count": 93,
   "id": "50633d81",
   "metadata": {},
   "outputs": [
    {
     "data": {
      "text/plain": [
       "102"
      ]
     },
     "execution_count": 93,
     "metadata": {},
     "output_type": "execute_result"
    },
    {
     "data": {
      "text/plain": [
       "<Figure size 1800x900 with 0 Axes>"
      ]
     },
     "execution_count": 93,
     "metadata": {},
     "output_type": "execute_result"
    },
    {
     "data": {
      "text/plain": [
       "[<matplotlib.lines.Line2D at 0x1d311ed7fd0>]"
      ]
     },
     "execution_count": 93,
     "metadata": {},
     "output_type": "execute_result"
    },
    {
     "data": {
      "text/plain": [
       "[<matplotlib.lines.Line2D at 0x1d311ed7370>]"
      ]
     },
     "execution_count": 93,
     "metadata": {},
     "output_type": "execute_result"
    },
    {
     "data": {
      "text/plain": [
       "([<matplotlib.axis.XTick at 0x1d342f632e0>,\n",
       "  <matplotlib.axis.XTick at 0x1d342f63d90>,\n",
       "  <matplotlib.axis.XTick at 0x1d37b131a90>,\n",
       "  <matplotlib.axis.XTick at 0x1d392cca280>,\n",
       "  <matplotlib.axis.XTick at 0x1d320740a90>,\n",
       "  <matplotlib.axis.XTick at 0x1d315f44a30>,\n",
       "  <matplotlib.axis.XTick at 0x1d392cca5e0>,\n",
       "  <matplotlib.axis.XTick at 0x1d342f7cbb0>,\n",
       "  <matplotlib.axis.XTick at 0x1d379889fd0>,\n",
       "  <matplotlib.axis.XTick at 0x1d311eccf40>,\n",
       "  <matplotlib.axis.XTick at 0x1d311eccc40>],\n",
       " [Text(0, 0, '20210804'),\n",
       "  Text(10, 0, '20210818'),\n",
       "  Text(20, 0, '20210901'),\n",
       "  Text(30, 0, '20210916'),\n",
       "  Text(40, 0, '20210930'),\n",
       "  Text(50, 0, '20211015'),\n",
       "  Text(60, 0, '20211029'),\n",
       "  Text(70, 0, '20211116'),\n",
       "  Text(80, 0, '20211130'),\n",
       "  Text(90, 0, '20211214'),\n",
       "  Text(100, 0, '20211229')])"
      ]
     },
     "execution_count": 93,
     "metadata": {},
     "output_type": "execute_result"
    },
    {
     "data": {
      "text/plain": [
       "Text(0.5, 0, 'Datas')"
      ]
     },
     "execution_count": 93,
     "metadata": {},
     "output_type": "execute_result"
    },
    {
     "data": {
      "text/plain": [
       "Text(0, 0.5, 'Preço Final')"
      ]
     },
     "execution_count": 93,
     "metadata": {},
     "output_type": "execute_result"
    },
    {
     "data": {
      "text/plain": [
       "Text(0.5, 1.0, 'Projeção de Preço')"
      ]
     },
     "execution_count": 93,
     "metadata": {},
     "output_type": "execute_result"
    },
    {
     "data": {
      "text/plain": [
       "<matplotlib.legend.Legend at 0x1d311ecc940>"
      ]
     },
     "execution_count": 93,
     "metadata": {},
     "output_type": "execute_result"
    },
    {
     "data": {
      "image/png": "[encoded data removed]",
      "text/plain": [
       "<Figure size 1800x900 with 1 Axes>"
      ]
     },
     "metadata": {},
     "output_type": "display_data"
    }
   ],
   "source": [
    "len(dados_teste)\n",
    "\n",
    "plt.figure(figsize = (18,9))\n",
    "plt.plot(dados_teste, color = 'green', label = 'real')\n",
    "plt.plot(predicoes, color = 'red', label = 'previsão')\n",
    "plt.xticks(range(0, len(dados_teste), 10), df_pet['DTPREG'].iloc[-len(dados_teste)::10], rotation=45)\n",
    "plt.xlabel('Datas', fontsize=18)\n",
    "plt.ylabel('Preço Final', fontsize=18)\n",
    "plt.title(\"Projeção de Preço\", fontsize=30)\n",
    "plt.legend()\n",
    "plt.show()"
   ]
  }
 ],
 "metadata": {
  "kernelspec": {
   "display_name": "Python 3 (ipykernel)",
   "language": "python",
   "name": "python3"
  },
  "language_info": {
   "codemirror_mode": {
    "name": "ipython",
    "version": 3
   },
   "file_extension": ".py",
   "mimetype": "text/x-python",
   "name": "python",
   "nbconvert_exporter": "python",
   "pygments_lexer": "ipython3",
   "version": "3.9.13"
  }
 },
 "nbformat": 4,
 "nbformat_minor": 5
}
