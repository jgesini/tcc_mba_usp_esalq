{
 "cells": [
  {
   "cell_type": "code",
   "execution_count": 1,
   "id": "52d6bd5f",
   "metadata": {},
   "outputs": [],
   "source": [
    "import csv\n",
    "import pandas as pd"
   ]
  },
  {
   "cell_type": "code",
   "execution_count": 2,
   "id": "36013147",
   "metadata": {},
   "outputs": [],
   "source": [
    "#para todos retornos de execução de códigos sejam apresentados\n",
    "from IPython.core.interactiveshell import InteractiveShell\n",
    "InteractiveShell.ast_node_interactivity = \"all\""
   ]
  },
  {
   "cell_type": "markdown",
   "id": "ccb0fb47",
   "metadata": {},
   "source": [
    "# Definição das colunas de acordo com o leiaute fornecido pela B3"
   ]
  },
  {
   "cell_type": "code",
   "execution_count": 3,
   "id": "cc459868",
   "metadata": {
    "scrolled": true
   },
   "outputs": [
    {
     "data": {
      "text/plain": [
       "26"
      ]
     },
     "execution_count": 3,
     "metadata": {},
     "output_type": "execute_result"
    },
    {
     "data": {
      "text/plain": [
       "26"
      ]
     },
     "execution_count": 3,
     "metadata": {},
     "output_type": "execute_result"
    }
   ],
   "source": [
    "# nomes das colunas\n",
    "nm_colunas = [\n",
    "    'TIPREG',\n",
    "    'DTPREG',\n",
    "    'CODBDI',\n",
    "    'CODNEG',\n",
    "    'TPMERC',\n",
    "    'NOMRES',\n",
    "    'ESPECI',\n",
    "    'PRAZOT',\n",
    "    'MODREF',\n",
    "    'PREABE',\n",
    "    'PREMAX',\n",
    "    'PREMIN',\n",
    "    'PREMED',\n",
    "    'PREULT',\n",
    "    'PREOFC',\n",
    "    'PREOFV',\n",
    "    'TOTNEG',\n",
    "    'QUATOT',\n",
    "    'VOLTOT',\n",
    "    'PREEXE',\n",
    "    'INDOPC',\n",
    "    'DATVEN',\n",
    "    'FATCOT',\n",
    "    'PTOEXE',\n",
    "    'CODISI',\n",
    "    'DISMES'    \n",
    "]\n",
    "\n",
    "#tamanho das colunas\n",
    "tam_colunas = [\n",
    "    2,8,2,12,3,12,10,3,4,11,11,11,11,11,11,11,5,18,16,11,1,8,7,7,12,3    \n",
    "]\n",
    "\n",
    "len(tam_colunas)\n",
    "len(nm_colunas)\n"
   ]
  },
  {
   "cell_type": "code",
   "execution_count": null,
   "id": "b493ed96",
   "metadata": {},
   "outputs": [],
   "source": [
    "\n"
   ]
  },
  {
   "cell_type": "markdown",
   "id": "638ecce0",
   "metadata": {},
   "source": [
    "# Carregando os arquivos da B3"
   ]
  },
  {
   "cell_type": "code",
   "execution_count": 6,
   "id": "57421a62",
   "metadata": {
    "scrolled": false
   },
   "outputs": [
    {
     "data": {
      "text/plain": [
       "['..\\\\..\\\\data\\\\2015.TXT',\n",
       " '..\\\\..\\\\data\\\\2016.TXT',\n",
       " '..\\\\..\\\\data\\\\2017.TXT',\n",
       " '..\\\\..\\\\data\\\\2018.TXT',\n",
       " '..\\\\..\\\\data\\\\2019.TXT',\n",
       " '..\\\\..\\\\data\\\\2020.TXT',\n",
       " '..\\\\..\\\\data\\\\2021.TXT']"
      ]
     },
     "execution_count": 6,
     "metadata": {},
     "output_type": "execute_result"
    }
   ],
   "source": [
    "import glob as gl\n",
    "\n",
    "#df = pd.read_fwf('../../data/demo.txt',widths=tam_colunas, names=nm_colunas, skiprows=1, skipfooter=1)\n",
    "#df = pd.read_fwf('..\\\\..\\\\data\\\\2020.txt',widths=tam_colunas, names=nm_colunas, skiprows=1, skipfooter=1)\n",
    "#df = pd.read_fwf('..\\\\..\\\\data\\\\2020.txt',widths=tam_colunas, names=nm_colunas, skiprows=1, skipfooter=1)\n",
    "\n",
    "lista_arq = gl.glob('..\\\\..\\\\data\\\\20*.txt')\n",
    "lista_arq\n",
    "\n",
    "df = pd.concat([pd.read_fwf(f,widths=tam_colunas, names=nm_colunas, skiprows=1, skipfooter=1) for f in lista_arq])"
   ]
  },
  {
   "cell_type": "markdown",
   "id": "a627a68d",
   "metadata": {},
   "source": [
    "# Carregando os indicadores econômicos"
   ]
  },
  {
   "cell_type": "code",
   "execution_count": 7,
   "id": "1abd2297",
   "metadata": {},
   "outputs": [
    {
     "data": {
      "text/html": [
       "<div>\n",
       "<style scoped>\n",
       "    .dataframe tbody tr th:only-of-type {\n",
       "        vertical-align: middle;\n",
       "    }\n",
       "\n",
       "    .dataframe tbody tr th {\n",
       "        vertical-align: top;\n",
       "    }\n",
       "\n",
       "    .dataframe thead th {\n",
       "        text-align: right;\n",
       "    }\n",
       "</style>\n",
       "<table border=\"1\" class=\"dataframe\">\n",
       "  <thead>\n",
       "    <tr style=\"text-align: right;\">\n",
       "      <th></th>\n",
       "      <th>Data</th>\n",
       "      <th>ibovespa</th>\n",
       "      <th>dolar_venda_media</th>\n",
       "      <th>dolar_venda_final</th>\n",
       "      <th>cdi</th>\n",
       "      <th>ipca</th>\n",
       "      <th>igpm</th>\n",
       "      <th>ipca_15</th>\n",
       "      <th>pib_milhoes</th>\n",
       "    </tr>\n",
       "  </thead>\n",
       "  <tbody>\n",
       "    <tr>\n",
       "      <th>0</th>\n",
       "      <td>2014.06</td>\n",
       "      <td>3.76</td>\n",
       "      <td>2.235470</td>\n",
       "      <td>2.2025</td>\n",
       "      <td>0.82</td>\n",
       "      <td>0.40</td>\n",
       "      <td>-0.74</td>\n",
       "      <td>0.47</td>\n",
       "      <td>458516.5</td>\n",
       "    </tr>\n",
       "    <tr>\n",
       "      <th>1</th>\n",
       "      <td>2014.07</td>\n",
       "      <td>5.00</td>\n",
       "      <td>2.224648</td>\n",
       "      <td>2.2674</td>\n",
       "      <td>0.94</td>\n",
       "      <td>0.01</td>\n",
       "      <td>-0.61</td>\n",
       "      <td>0.17</td>\n",
       "      <td>481994.0</td>\n",
       "    </tr>\n",
       "    <tr>\n",
       "      <th>2</th>\n",
       "      <td>2014.08</td>\n",
       "      <td>9.78</td>\n",
       "      <td>2.265648</td>\n",
       "      <td>2.2396</td>\n",
       "      <td>0.86</td>\n",
       "      <td>0.25</td>\n",
       "      <td>-0.27</td>\n",
       "      <td>0.14</td>\n",
       "      <td>477052.9</td>\n",
       "    </tr>\n",
       "    <tr>\n",
       "      <th>3</th>\n",
       "      <td>2014.09</td>\n",
       "      <td>-11.70</td>\n",
       "      <td>2.332868</td>\n",
       "      <td>2.4510</td>\n",
       "      <td>0.90</td>\n",
       "      <td>0.57</td>\n",
       "      <td>0.20</td>\n",
       "      <td>0.39</td>\n",
       "      <td>476520.6</td>\n",
       "    </tr>\n",
       "    <tr>\n",
       "      <th>4</th>\n",
       "      <td>2014.10</td>\n",
       "      <td>0.95</td>\n",
       "      <td>2.448261</td>\n",
       "      <td>2.4442</td>\n",
       "      <td>0.94</td>\n",
       "      <td>0.42</td>\n",
       "      <td>0.28</td>\n",
       "      <td>0.48</td>\n",
       "      <td>493304.7</td>\n",
       "    </tr>\n",
       "    <tr>\n",
       "      <th>...</th>\n",
       "      <td>...</td>\n",
       "      <td>...</td>\n",
       "      <td>...</td>\n",
       "      <td>...</td>\n",
       "      <td>...</td>\n",
       "      <td>...</td>\n",
       "      <td>...</td>\n",
       "      <td>...</td>\n",
       "      <td>...</td>\n",
       "    </tr>\n",
       "    <tr>\n",
       "      <th>100</th>\n",
       "      <td>2022.10</td>\n",
       "      <td>5.74</td>\n",
       "      <td>5.250300</td>\n",
       "      <td>5.2570</td>\n",
       "      <td>1.02</td>\n",
       "      <td>0.59</td>\n",
       "      <td>-0.97</td>\n",
       "      <td>0.16</td>\n",
       "      <td>826638.8</td>\n",
       "    </tr>\n",
       "    <tr>\n",
       "      <th>101</th>\n",
       "      <td>2022.11</td>\n",
       "      <td>-3.06</td>\n",
       "      <td>5.274650</td>\n",
       "      <td>5.2941</td>\n",
       "      <td>1.02</td>\n",
       "      <td>0.41</td>\n",
       "      <td>-0.56</td>\n",
       "      <td>0.53</td>\n",
       "      <td>837324.0</td>\n",
       "    </tr>\n",
       "    <tr>\n",
       "      <th>102</th>\n",
       "      <td>2022.12</td>\n",
       "      <td>0.50</td>\n",
       "      <td>5.242432</td>\n",
       "      <td>5.2177</td>\n",
       "      <td>1.12</td>\n",
       "      <td>0.62</td>\n",
       "      <td>0.45</td>\n",
       "      <td>0.52</td>\n",
       "      <td>840892.5</td>\n",
       "    </tr>\n",
       "    <tr>\n",
       "      <th>103</th>\n",
       "      <td>2023.01</td>\n",
       "      <td>NaN</td>\n",
       "      <td>5.200682</td>\n",
       "      <td>5.0993</td>\n",
       "      <td>1.12</td>\n",
       "      <td>0.53</td>\n",
       "      <td>0.21</td>\n",
       "      <td>0.55</td>\n",
       "      <td>NaN</td>\n",
       "    </tr>\n",
       "    <tr>\n",
       "      <th>104</th>\n",
       "      <td>2023.02</td>\n",
       "      <td>NaN</td>\n",
       "      <td>NaN</td>\n",
       "      <td>NaN</td>\n",
       "      <td>0.66</td>\n",
       "      <td>NaN</td>\n",
       "      <td>NaN</td>\n",
       "      <td>NaN</td>\n",
       "      <td>NaN</td>\n",
       "    </tr>\n",
       "  </tbody>\n",
       "</table>\n",
       "<p>105 rows × 9 columns</p>\n",
       "</div>"
      ],
      "text/plain": [
       "        Data  ibovespa  dolar_venda_media  dolar_venda_final   cdi  ipca  \\\n",
       "0    2014.06      3.76           2.235470             2.2025  0.82  0.40   \n",
       "1    2014.07      5.00           2.224648             2.2674  0.94  0.01   \n",
       "2    2014.08      9.78           2.265648             2.2396  0.86  0.25   \n",
       "3    2014.09    -11.70           2.332868             2.4510  0.90  0.57   \n",
       "4    2014.10      0.95           2.448261             2.4442  0.94  0.42   \n",
       "..       ...       ...                ...                ...   ...   ...   \n",
       "100  2022.10      5.74           5.250300             5.2570  1.02  0.59   \n",
       "101  2022.11     -3.06           5.274650             5.2941  1.02  0.41   \n",
       "102  2022.12      0.50           5.242432             5.2177  1.12  0.62   \n",
       "103  2023.01       NaN           5.200682             5.0993  1.12  0.53   \n",
       "104  2023.02       NaN                NaN                NaN  0.66   NaN   \n",
       "\n",
       "     igpm  ipca_15  pib_milhoes  \n",
       "0   -0.74     0.47     458516.5  \n",
       "1   -0.61     0.17     481994.0  \n",
       "2   -0.27     0.14     477052.9  \n",
       "3    0.20     0.39     476520.6  \n",
       "4    0.28     0.48     493304.7  \n",
       "..    ...      ...          ...  \n",
       "100 -0.97     0.16     826638.8  \n",
       "101 -0.56     0.53     837324.0  \n",
       "102  0.45     0.52     840892.5  \n",
       "103  0.21     0.55          NaN  \n",
       "104   NaN      NaN          NaN  \n",
       "\n",
       "[105 rows x 9 columns]"
      ]
     },
     "execution_count": 7,
     "metadata": {},
     "output_type": "execute_result"
    }
   ],
   "source": [
    "df_ind = pd.read_excel('..\\\\..\\\\data\\\\dados_economicos_ipeadata.xlsx')\n",
    "df_ind"
   ]
  },
  {
   "cell_type": "markdown",
   "id": "28765c86",
   "metadata": {},
   "source": [
    "# Formatando as informações do ativo"
   ]
  },
  {
   "cell_type": "code",
   "execution_count": 10,
   "id": "6f2ca9ee",
   "metadata": {
    "scrolled": true
   },
   "outputs": [
    {
     "data": {
      "text/html": [
       "<div>\n",
       "<style scoped>\n",
       "    .dataframe tbody tr th:only-of-type {\n",
       "        vertical-align: middle;\n",
       "    }\n",
       "\n",
       "    .dataframe tbody tr th {\n",
       "        vertical-align: top;\n",
       "    }\n",
       "\n",
       "    .dataframe thead th {\n",
       "        text-align: right;\n",
       "    }\n",
       "</style>\n",
       "<table border=\"1\" class=\"dataframe\">\n",
       "  <thead>\n",
       "    <tr style=\"text-align: right;\">\n",
       "      <th></th>\n",
       "      <th>index</th>\n",
       "      <th>TIPREG</th>\n",
       "      <th>DTPREG</th>\n",
       "      <th>CODBDI</th>\n",
       "      <th>CODNEG</th>\n",
       "      <th>TPMERC</th>\n",
       "      <th>NOMRES</th>\n",
       "      <th>ESPECI</th>\n",
       "      <th>PRAZOT</th>\n",
       "      <th>MODREF</th>\n",
       "      <th>...</th>\n",
       "      <th>TOTNEG</th>\n",
       "      <th>QUATOT</th>\n",
       "      <th>VOLTOT</th>\n",
       "      <th>PREEXE</th>\n",
       "      <th>INDOPC</th>\n",
       "      <th>DATVEN</th>\n",
       "      <th>FATCOT</th>\n",
       "      <th>PTOEXE</th>\n",
       "      <th>CODISI</th>\n",
       "      <th>DISMES</th>\n",
       "    </tr>\n",
       "    <tr>\n",
       "      <th>ANOPREG</th>\n",
       "      <th></th>\n",
       "      <th></th>\n",
       "      <th></th>\n",
       "      <th></th>\n",
       "      <th></th>\n",
       "      <th></th>\n",
       "      <th></th>\n",
       "      <th></th>\n",
       "      <th></th>\n",
       "      <th></th>\n",
       "      <th></th>\n",
       "      <th></th>\n",
       "      <th></th>\n",
       "      <th></th>\n",
       "      <th></th>\n",
       "      <th></th>\n",
       "      <th></th>\n",
       "      <th></th>\n",
       "      <th></th>\n",
       "      <th></th>\n",
       "      <th></th>\n",
       "    </tr>\n",
       "  </thead>\n",
       "  <tbody>\n",
       "    <tr>\n",
       "      <th>2015</th>\n",
       "      <td>176</td>\n",
       "      <td>176</td>\n",
       "      <td>176</td>\n",
       "      <td>176</td>\n",
       "      <td>176</td>\n",
       "      <td>176</td>\n",
       "      <td>176</td>\n",
       "      <td>176</td>\n",
       "      <td>0</td>\n",
       "      <td>176</td>\n",
       "      <td>...</td>\n",
       "      <td>176</td>\n",
       "      <td>176</td>\n",
       "      <td>176</td>\n",
       "      <td>176</td>\n",
       "      <td>176</td>\n",
       "      <td>176</td>\n",
       "      <td>176</td>\n",
       "      <td>176</td>\n",
       "      <td>176</td>\n",
       "      <td>176</td>\n",
       "    </tr>\n",
       "    <tr>\n",
       "      <th>2016</th>\n",
       "      <td>167</td>\n",
       "      <td>167</td>\n",
       "      <td>167</td>\n",
       "      <td>167</td>\n",
       "      <td>167</td>\n",
       "      <td>167</td>\n",
       "      <td>167</td>\n",
       "      <td>167</td>\n",
       "      <td>0</td>\n",
       "      <td>167</td>\n",
       "      <td>...</td>\n",
       "      <td>167</td>\n",
       "      <td>167</td>\n",
       "      <td>167</td>\n",
       "      <td>167</td>\n",
       "      <td>167</td>\n",
       "      <td>167</td>\n",
       "      <td>167</td>\n",
       "      <td>167</td>\n",
       "      <td>167</td>\n",
       "      <td>167</td>\n",
       "    </tr>\n",
       "    <tr>\n",
       "      <th>2017</th>\n",
       "      <td>141</td>\n",
       "      <td>141</td>\n",
       "      <td>141</td>\n",
       "      <td>141</td>\n",
       "      <td>141</td>\n",
       "      <td>141</td>\n",
       "      <td>141</td>\n",
       "      <td>141</td>\n",
       "      <td>0</td>\n",
       "      <td>141</td>\n",
       "      <td>...</td>\n",
       "      <td>141</td>\n",
       "      <td>141</td>\n",
       "      <td>141</td>\n",
       "      <td>141</td>\n",
       "      <td>141</td>\n",
       "      <td>141</td>\n",
       "      <td>141</td>\n",
       "      <td>141</td>\n",
       "      <td>141</td>\n",
       "      <td>141</td>\n",
       "    </tr>\n",
       "    <tr>\n",
       "      <th>2018</th>\n",
       "      <td>202</td>\n",
       "      <td>202</td>\n",
       "      <td>202</td>\n",
       "      <td>202</td>\n",
       "      <td>202</td>\n",
       "      <td>202</td>\n",
       "      <td>202</td>\n",
       "      <td>202</td>\n",
       "      <td>0</td>\n",
       "      <td>202</td>\n",
       "      <td>...</td>\n",
       "      <td>202</td>\n",
       "      <td>202</td>\n",
       "      <td>202</td>\n",
       "      <td>202</td>\n",
       "      <td>202</td>\n",
       "      <td>202</td>\n",
       "      <td>202</td>\n",
       "      <td>202</td>\n",
       "      <td>202</td>\n",
       "      <td>202</td>\n",
       "    </tr>\n",
       "    <tr>\n",
       "      <th>2019</th>\n",
       "      <td>174</td>\n",
       "      <td>174</td>\n",
       "      <td>174</td>\n",
       "      <td>174</td>\n",
       "      <td>174</td>\n",
       "      <td>174</td>\n",
       "      <td>174</td>\n",
       "      <td>174</td>\n",
       "      <td>0</td>\n",
       "      <td>174</td>\n",
       "      <td>...</td>\n",
       "      <td>174</td>\n",
       "      <td>174</td>\n",
       "      <td>174</td>\n",
       "      <td>174</td>\n",
       "      <td>174</td>\n",
       "      <td>174</td>\n",
       "      <td>174</td>\n",
       "      <td>174</td>\n",
       "      <td>174</td>\n",
       "      <td>174</td>\n",
       "    </tr>\n",
       "    <tr>\n",
       "      <th>2020</th>\n",
       "      <td>243</td>\n",
       "      <td>243</td>\n",
       "      <td>243</td>\n",
       "      <td>243</td>\n",
       "      <td>243</td>\n",
       "      <td>243</td>\n",
       "      <td>243</td>\n",
       "      <td>243</td>\n",
       "      <td>0</td>\n",
       "      <td>243</td>\n",
       "      <td>...</td>\n",
       "      <td>243</td>\n",
       "      <td>243</td>\n",
       "      <td>243</td>\n",
       "      <td>243</td>\n",
       "      <td>243</td>\n",
       "      <td>243</td>\n",
       "      <td>243</td>\n",
       "      <td>243</td>\n",
       "      <td>243</td>\n",
       "      <td>243</td>\n",
       "    </tr>\n",
       "    <tr>\n",
       "      <th>2021</th>\n",
       "      <td>247</td>\n",
       "      <td>247</td>\n",
       "      <td>247</td>\n",
       "      <td>247</td>\n",
       "      <td>247</td>\n",
       "      <td>247</td>\n",
       "      <td>247</td>\n",
       "      <td>247</td>\n",
       "      <td>0</td>\n",
       "      <td>247</td>\n",
       "      <td>...</td>\n",
       "      <td>247</td>\n",
       "      <td>247</td>\n",
       "      <td>247</td>\n",
       "      <td>247</td>\n",
       "      <td>247</td>\n",
       "      <td>247</td>\n",
       "      <td>247</td>\n",
       "      <td>247</td>\n",
       "      <td>247</td>\n",
       "      <td>247</td>\n",
       "    </tr>\n",
       "  </tbody>\n",
       "</table>\n",
       "<p>7 rows × 27 columns</p>\n",
       "</div>"
      ],
      "text/plain": [
       "         index  TIPREG  DTPREG  CODBDI  CODNEG  TPMERC  NOMRES  ESPECI  \\\n",
       "ANOPREG                                                                  \n",
       "2015       176     176     176     176     176     176     176     176   \n",
       "2016       167     167     167     167     167     167     167     167   \n",
       "2017       141     141     141     141     141     141     141     141   \n",
       "2018       202     202     202     202     202     202     202     202   \n",
       "2019       174     174     174     174     174     174     174     174   \n",
       "2020       243     243     243     243     243     243     243     243   \n",
       "2021       247     247     247     247     247     247     247     247   \n",
       "\n",
       "         PRAZOT  MODREF  ...  TOTNEG  QUATOT  VOLTOT  PREEXE  INDOPC  DATVEN  \\\n",
       "ANOPREG                  ...                                                   \n",
       "2015          0     176  ...     176     176     176     176     176     176   \n",
       "2016          0     167  ...     167     167     167     167     167     167   \n",
       "2017          0     141  ...     141     141     141     141     141     141   \n",
       "2018          0     202  ...     202     202     202     202     202     202   \n",
       "2019          0     174  ...     174     174     174     174     174     174   \n",
       "2020          0     243  ...     243     243     243     243     243     243   \n",
       "2021          0     247  ...     247     247     247     247     247     247   \n",
       "\n",
       "         FATCOT  PTOEXE  CODISI  DISMES  \n",
       "ANOPREG                                  \n",
       "2015        176     176     176     176  \n",
       "2016        167     167     167     167  \n",
       "2017        141     141     141     141  \n",
       "2018        202     202     202     202  \n",
       "2019        174     174     174     174  \n",
       "2020        243     243     243     243  \n",
       "2021        247     247     247     247  \n",
       "\n",
       "[7 rows x 27 columns]"
      ]
     },
     "execution_count": 10,
     "metadata": {},
     "output_type": "execute_result"
    },
    {
     "data": {
      "text/html": [
       "<div>\n",
       "<style scoped>\n",
       "    .dataframe tbody tr th:only-of-type {\n",
       "        vertical-align: middle;\n",
       "    }\n",
       "\n",
       "    .dataframe tbody tr th {\n",
       "        vertical-align: top;\n",
       "    }\n",
       "\n",
       "    .dataframe thead th {\n",
       "        text-align: right;\n",
       "    }\n",
       "</style>\n",
       "<table border=\"1\" class=\"dataframe\">\n",
       "  <thead>\n",
       "    <tr style=\"text-align: right;\">\n",
       "      <th></th>\n",
       "      <th>index</th>\n",
       "      <th>TIPREG</th>\n",
       "      <th>DTPREG</th>\n",
       "      <th>CODBDI</th>\n",
       "      <th>CODNEG</th>\n",
       "      <th>TPMERC</th>\n",
       "      <th>NOMRES</th>\n",
       "      <th>ESPECI</th>\n",
       "      <th>PRAZOT</th>\n",
       "      <th>MODREF</th>\n",
       "      <th>...</th>\n",
       "      <th>QUATOT</th>\n",
       "      <th>VOLTOT</th>\n",
       "      <th>PREEXE</th>\n",
       "      <th>INDOPC</th>\n",
       "      <th>DATVEN</th>\n",
       "      <th>FATCOT</th>\n",
       "      <th>PTOEXE</th>\n",
       "      <th>CODISI</th>\n",
       "      <th>DISMES</th>\n",
       "      <th>ANOPREG</th>\n",
       "    </tr>\n",
       "  </thead>\n",
       "  <tbody>\n",
       "    <tr>\n",
       "      <th>0</th>\n",
       "      <td>51</td>\n",
       "      <td>1</td>\n",
       "      <td>20150102</td>\n",
       "      <td>2</td>\n",
       "      <td>AMZO34</td>\n",
       "      <td>10</td>\n",
       "      <td>AMAZON</td>\n",
       "      <td>DRN</td>\n",
       "      <td>NaN</td>\n",
       "      <td>R$</td>\n",
       "      <td>...</td>\n",
       "      <td>41886000020000</td>\n",
       "      <td>130000</td>\n",
       "      <td>541</td>\n",
       "      <td>4</td>\n",
       "      <td>10000000</td>\n",
       "      <td>0</td>\n",
       "      <td>9999</td>\n",
       "      <td>123100000010</td>\n",
       "      <td>0</td>\n",
       "      <td>2015</td>\n",
       "    </tr>\n",
       "    <tr>\n",
       "      <th>1</th>\n",
       "      <td>1471</td>\n",
       "      <td>1</td>\n",
       "      <td>20150105</td>\n",
       "      <td>2</td>\n",
       "      <td>AMZO34</td>\n",
       "      <td>10</td>\n",
       "      <td>AMAZON</td>\n",
       "      <td>DRN</td>\n",
       "      <td>NaN</td>\n",
       "      <td>R$</td>\n",
       "      <td>...</td>\n",
       "      <td>41600000020000</td>\n",
       "      <td>180000</td>\n",
       "      <td>742</td>\n",
       "      <td>4</td>\n",
       "      <td>25000000</td>\n",
       "      <td>0</td>\n",
       "      <td>9999</td>\n",
       "      <td>123100000010</td>\n",
       "      <td>0</td>\n",
       "      <td>2015</td>\n",
       "    </tr>\n",
       "    <tr>\n",
       "      <th>2</th>\n",
       "      <td>3011</td>\n",
       "      <td>1</td>\n",
       "      <td>20150106</td>\n",
       "      <td>2</td>\n",
       "      <td>AMZO34</td>\n",
       "      <td>10</td>\n",
       "      <td>AMAZON</td>\n",
       "      <td>DRN</td>\n",
       "      <td>NaN</td>\n",
       "      <td>R$</td>\n",
       "      <td>...</td>\n",
       "      <td>40020000030000</td>\n",
       "      <td>40000</td>\n",
       "      <td>160</td>\n",
       "      <td>4</td>\n",
       "      <td>25000000</td>\n",
       "      <td>0</td>\n",
       "      <td>9999</td>\n",
       "      <td>123100000010</td>\n",
       "      <td>0</td>\n",
       "      <td>2015</td>\n",
       "    </tr>\n",
       "    <tr>\n",
       "      <th>3</th>\n",
       "      <td>4671</td>\n",
       "      <td>1</td>\n",
       "      <td>20150107</td>\n",
       "      <td>2</td>\n",
       "      <td>AMZO34</td>\n",
       "      <td>10</td>\n",
       "      <td>AMAZON</td>\n",
       "      <td>DRN</td>\n",
       "      <td>NaN</td>\n",
       "      <td>R$</td>\n",
       "      <td>...</td>\n",
       "      <td>40965000020000</td>\n",
       "      <td>40000</td>\n",
       "      <td>161</td>\n",
       "      <td>4</td>\n",
       "      <td>72000000</td>\n",
       "      <td>0</td>\n",
       "      <td>9999</td>\n",
       "      <td>123100000010</td>\n",
       "      <td>0</td>\n",
       "      <td>2015</td>\n",
       "    </tr>\n",
       "    <tr>\n",
       "      <th>4</th>\n",
       "      <td>6350</td>\n",
       "      <td>1</td>\n",
       "      <td>20150108</td>\n",
       "      <td>2</td>\n",
       "      <td>AMZO34</td>\n",
       "      <td>10</td>\n",
       "      <td>AMAZON</td>\n",
       "      <td>DRN</td>\n",
       "      <td>NaN</td>\n",
       "      <td>R$</td>\n",
       "      <td>...</td>\n",
       "      <td>40760000030000</td>\n",
       "      <td>40000</td>\n",
       "      <td>162</td>\n",
       "      <td>6</td>\n",
       "      <td>26000000</td>\n",
       "      <td>0</td>\n",
       "      <td>9999</td>\n",
       "      <td>123100000010</td>\n",
       "      <td>0</td>\n",
       "      <td>2015</td>\n",
       "    </tr>\n",
       "    <tr>\n",
       "      <th>...</th>\n",
       "      <td>...</td>\n",
       "      <td>...</td>\n",
       "      <td>...</td>\n",
       "      <td>...</td>\n",
       "      <td>...</td>\n",
       "      <td>...</td>\n",
       "      <td>...</td>\n",
       "      <td>...</td>\n",
       "      <td>...</td>\n",
       "      <td>...</td>\n",
       "      <td>...</td>\n",
       "      <td>...</td>\n",
       "      <td>...</td>\n",
       "      <td>...</td>\n",
       "      <td>...</td>\n",
       "      <td>...</td>\n",
       "      <td>...</td>\n",
       "      <td>...</td>\n",
       "      <td>...</td>\n",
       "      <td>...</td>\n",
       "      <td>...</td>\n",
       "    </tr>\n",
       "    <tr>\n",
       "      <th>1345</th>\n",
       "      <td>1039504</td>\n",
       "      <td>1</td>\n",
       "      <td>20211223</td>\n",
       "      <td>2</td>\n",
       "      <td>AMZO34</td>\n",
       "      <td>10</td>\n",
       "      <td>AMAZON</td>\n",
       "      <td>DRN</td>\n",
       "      <td>NaN</td>\n",
       "      <td>R$</td>\n",
       "      <td>...</td>\n",
       "      <td>12426008950000</td>\n",
       "      <td>3934300</td>\n",
       "      <td>4881</td>\n",
       "      <td>1</td>\n",
       "      <td>1780000</td>\n",
       "      <td>0</td>\n",
       "      <td>9999</td>\n",
       "      <td>123100000010</td>\n",
       "      <td>0</td>\n",
       "      <td>2021</td>\n",
       "    </tr>\n",
       "    <tr>\n",
       "      <th>1346</th>\n",
       "      <td>1039505</td>\n",
       "      <td>1</td>\n",
       "      <td>20211227</td>\n",
       "      <td>2</td>\n",
       "      <td>AMZO34</td>\n",
       "      <td>10</td>\n",
       "      <td>AMAZON</td>\n",
       "      <td>DRN</td>\n",
       "      <td>NaN</td>\n",
       "      <td>R$</td>\n",
       "      <td>...</td>\n",
       "      <td>12201022130000</td>\n",
       "      <td>11736700</td>\n",
       "      <td>14400</td>\n",
       "      <td>3</td>\n",
       "      <td>9450000</td>\n",
       "      <td>0</td>\n",
       "      <td>9999</td>\n",
       "      <td>123100000010</td>\n",
       "      <td>0</td>\n",
       "      <td>2021</td>\n",
       "    </tr>\n",
       "    <tr>\n",
       "      <th>1347</th>\n",
       "      <td>1039506</td>\n",
       "      <td>1</td>\n",
       "      <td>20211228</td>\n",
       "      <td>2</td>\n",
       "      <td>AMZO34</td>\n",
       "      <td>10</td>\n",
       "      <td>AMAZON</td>\n",
       "      <td>DRN</td>\n",
       "      <td>NaN</td>\n",
       "      <td>R$</td>\n",
       "      <td>...</td>\n",
       "      <td>12283017040000</td>\n",
       "      <td>6318800</td>\n",
       "      <td>7738</td>\n",
       "      <td>5</td>\n",
       "      <td>53660000</td>\n",
       "      <td>0</td>\n",
       "      <td>9999</td>\n",
       "      <td>123100000010</td>\n",
       "      <td>0</td>\n",
       "      <td>2021</td>\n",
       "    </tr>\n",
       "    <tr>\n",
       "      <th>1348</th>\n",
       "      <td>1039507</td>\n",
       "      <td>1</td>\n",
       "      <td>20211229</td>\n",
       "      <td>2</td>\n",
       "      <td>AMZO34</td>\n",
       "      <td>10</td>\n",
       "      <td>AMAZON</td>\n",
       "      <td>DRN</td>\n",
       "      <td>NaN</td>\n",
       "      <td>R$</td>\n",
       "      <td>...</td>\n",
       "      <td>12329008690000</td>\n",
       "      <td>8185100</td>\n",
       "      <td>10061</td>\n",
       "      <td>5</td>\n",
       "      <td>22470000</td>\n",
       "      <td>0</td>\n",
       "      <td>9999</td>\n",
       "      <td>123100000010</td>\n",
       "      <td>0</td>\n",
       "      <td>2021</td>\n",
       "    </tr>\n",
       "    <tr>\n",
       "      <th>1349</th>\n",
       "      <td>1039508</td>\n",
       "      <td>1</td>\n",
       "      <td>20211230</td>\n",
       "      <td>2</td>\n",
       "      <td>AMZO34</td>\n",
       "      <td>10</td>\n",
       "      <td>AMAZON</td>\n",
       "      <td>DRN</td>\n",
       "      <td>NaN</td>\n",
       "      <td>R$</td>\n",
       "      <td>...</td>\n",
       "      <td>12005024820000</td>\n",
       "      <td>17659200</td>\n",
       "      <td>21193</td>\n",
       "      <td>3</td>\n",
       "      <td>19770000</td>\n",
       "      <td>0</td>\n",
       "      <td>9999</td>\n",
       "      <td>123100000010</td>\n",
       "      <td>0</td>\n",
       "      <td>2021</td>\n",
       "    </tr>\n",
       "  </tbody>\n",
       "</table>\n",
       "<p>1350 rows × 28 columns</p>\n",
       "</div>"
      ],
      "text/plain": [
       "        index  TIPREG    DTPREG  CODBDI  CODNEG  TPMERC  NOMRES ESPECI  \\\n",
       "0          51       1  20150102       2  AMZO34      10  AMAZON    DRN   \n",
       "1        1471       1  20150105       2  AMZO34      10  AMAZON    DRN   \n",
       "2        3011       1  20150106       2  AMZO34      10  AMAZON    DRN   \n",
       "3        4671       1  20150107       2  AMZO34      10  AMAZON    DRN   \n",
       "4        6350       1  20150108       2  AMZO34      10  AMAZON    DRN   \n",
       "...       ...     ...       ...     ...     ...     ...     ...    ...   \n",
       "1345  1039504       1  20211223       2  AMZO34      10  AMAZON    DRN   \n",
       "1346  1039505       1  20211227       2  AMZO34      10  AMAZON    DRN   \n",
       "1347  1039506       1  20211228       2  AMZO34      10  AMAZON    DRN   \n",
       "1348  1039507       1  20211229       2  AMZO34      10  AMAZON    DRN   \n",
       "1349  1039508       1  20211230       2  AMZO34      10  AMAZON    DRN   \n",
       "\n",
       "      PRAZOT MODREF  ...          QUATOT    VOLTOT  PREEXE  INDOPC    DATVEN  \\\n",
       "0        NaN     R$  ...  41886000020000    130000     541       4  10000000   \n",
       "1        NaN     R$  ...  41600000020000    180000     742       4  25000000   \n",
       "2        NaN     R$  ...  40020000030000     40000     160       4  25000000   \n",
       "3        NaN     R$  ...  40965000020000     40000     161       4  72000000   \n",
       "4        NaN     R$  ...  40760000030000     40000     162       6  26000000   \n",
       "...      ...    ...  ...             ...       ...     ...     ...       ...   \n",
       "1345     NaN     R$  ...  12426008950000   3934300    4881       1   1780000   \n",
       "1346     NaN     R$  ...  12201022130000  11736700   14400       3   9450000   \n",
       "1347     NaN     R$  ...  12283017040000   6318800    7738       5  53660000   \n",
       "1348     NaN     R$  ...  12329008690000   8185100   10061       5  22470000   \n",
       "1349     NaN     R$  ...  12005024820000  17659200   21193       3  19770000   \n",
       "\n",
       "      FATCOT  PTOEXE        CODISI  DISMES  ANOPREG  \n",
       "0          0    9999  123100000010       0     2015  \n",
       "1          0    9999  123100000010       0     2015  \n",
       "2          0    9999  123100000010       0     2015  \n",
       "3          0    9999  123100000010       0     2015  \n",
       "4          0    9999  123100000010       0     2015  \n",
       "...      ...     ...           ...     ...      ...  \n",
       "1345       0    9999  123100000010       0     2021  \n",
       "1346       0    9999  123100000010       0     2021  \n",
       "1347       0    9999  123100000010       0     2021  \n",
       "1348       0    9999  123100000010       0     2021  \n",
       "1349       0    9999  123100000010       0     2021  \n",
       "\n",
       "[1350 rows x 28 columns]"
      ]
     },
     "execution_count": 10,
     "metadata": {},
     "output_type": "execute_result"
    }
   ],
   "source": [
    "#AMAZON\n",
    "df_amz = df.query(\"CODNEG=='AMZO34'\")\n",
    "df_amz = df_amz.sort_values(['DTPREG','CODNEG'])\n",
    "df_amz = df_amz.reset_index()\n",
    "df_amz['ANOPREG']=df_amz['DTPREG'].apply(str).str[:4]\n",
    "df_amz.groupby('ANOPREG').count()\n",
    "df_amz\n",
    "df_amz.to_csv('..\\\\..\\\\data\\\\AMZ034.csv')\n",
    "teste=pd.read_csv('..\\\\..\\\\data\\\\AMZ034.csv')\n"
   ]
  },
  {
   "cell_type": "markdown",
   "id": "9151d83f",
   "metadata": {},
   "source": [
    "# A variável PREULT , indica o último valor do ativo no dia e será a variável de trabalho"
   ]
  },
  {
   "cell_type": "code",
   "execution_count": 13,
   "id": "f87cef64",
   "metadata": {},
   "outputs": [
    {
     "data": {
      "text/plain": [
       "0       416.46\n",
       "1       412.45\n",
       "2       401.06\n",
       "3       403.68\n",
       "4       406.56\n",
       "         ...  \n",
       "1345    124.06\n",
       "1346    122.69\n",
       "1347    122.46\n",
       "1348    122.92\n",
       "1349    120.01\n",
       "Name: PREULT, Length: 1350, dtype: float64"
      ]
     },
     "execution_count": 13,
     "metadata": {},
     "output_type": "execute_result"
    },
    {
     "data": {
      "text/plain": [
       "(1350,)"
      ]
     },
     "execution_count": 13,
     "metadata": {},
     "output_type": "execute_result"
    }
   ],
   "source": [
    "\n",
    "df_amz['PREULT']=df_amz['PREULT']/100000\n",
    "valores = df_amz['PREULT']\n",
    "valores\n",
    "valores.shape"
   ]
  },
  {
   "cell_type": "markdown",
   "id": "f8c6d98d",
   "metadata": {},
   "source": [
    "# Vizualizando os dados"
   ]
  },
  {
   "cell_type": "code",
   "execution_count": 15,
   "id": "e3faba17",
   "metadata": {},
   "outputs": [
    {
     "data": {
      "text/plain": [
       "<Figure size 1800x900 with 0 Axes>"
      ]
     },
     "execution_count": 15,
     "metadata": {},
     "output_type": "execute_result"
    },
    {
     "data": {
      "text/plain": [
       "[<matplotlib.lines.Line2D at 0x1d0d54015e0>]"
      ]
     },
     "execution_count": 15,
     "metadata": {},
     "output_type": "execute_result"
    },
    {
     "data": {
      "text/plain": [
       "([<matplotlib.axis.XTick at 0x1d0be8001f0>,\n",
       "  <matplotlib.axis.XTick at 0x1d0be8001c0>,\n",
       "  <matplotlib.axis.XTick at 0x1d0a7a8ce80>,\n",
       "  <matplotlib.axis.XTick at 0x1d0e0d42070>,\n",
       "  <matplotlib.axis.XTick at 0x1d0d5401c70>,\n",
       "  <matplotlib.axis.XTick at 0x1d0e0d42a00>,\n",
       "  <matplotlib.axis.XTick at 0x1d0e0d51190>],\n",
       " [Text(0, 0, '20150102'),\n",
       "  Text(200, 0, '20160222'),\n",
       "  Text(400, 0, '20170525'),\n",
       "  Text(600, 0, '20180803'),\n",
       "  Text(800, 0, '20190918'),\n",
       "  Text(1000, 0, '20200803'),\n",
       "  Text(1200, 0, '20210526')])"
      ]
     },
     "execution_count": 15,
     "metadata": {},
     "output_type": "execute_result"
    },
    {
     "data": {
      "text/plain": [
       "Text(0.5, 0, 'Datas')"
      ]
     },
     "execution_count": 15,
     "metadata": {},
     "output_type": "execute_result"
    },
    {
     "data": {
      "text/plain": [
       "Text(0, 0.5, 'Preço Final')"
      ]
     },
     "execution_count": 15,
     "metadata": {},
     "output_type": "execute_result"
    },
    {
     "data": {
      "text/plain": [
       "Text(0.5, 1.0, 'Histórico de Preço')"
      ]
     },
     "execution_count": 15,
     "metadata": {},
     "output_type": "execute_result"
    },
    {
     "data": {
      "image/png": "[encoded data removed]",
      "text/plain": [
       "<Figure size 1800x900 with 1 Axes>"
      ]
     },
     "metadata": {},
     "output_type": "display_data"
    }
   ],
   "source": [
    "import matplotlib.pyplot as plt\n",
    "\n",
    "plt.figure(figsize = (18,9))\n",
    "plt.plot(df_amz['PREULT'])\n",
    "plt.xticks(range(0,df_amz.shape[0],200), df_amz['DTPREG'].loc[::200], rotation=45)\n",
    "plt.xlabel('Datas', fontsize=18)\n",
    "plt.ylabel('Preço Final', fontsize=18)\n",
    "plt.title(\"Histórico de Preço\", fontsize=30)\n",
    "plt.show()"
   ]
  },
  {
   "cell_type": "markdown",
   "id": "08a02119",
   "metadata": {},
   "source": [
    "# A variável dias_input indica o número de dias que será utilizado como informação de entrada para a predição.\n",
    "\n",
    "## Dessa forma, para que o modelo possa predizer o valor do ativo em uma determinada data, irá utilizar como \"input\" os valores do ativo correspondentes aos \"dias_input\" anteriores."
   ]
  },
  {
   "cell_type": "code",
   "execution_count": 16,
   "id": "da0a35ef",
   "metadata": {},
   "outputs": [],
   "source": [
    "#número de dias utilizados para predição (input)\n",
    "dias_input = 15"
   ]
  },
  {
   "cell_type": "markdown",
   "id": "a614f0a9",
   "metadata": {},
   "source": [
    "# Separação entre teste e treino"
   ]
  },
  {
   "cell_type": "code",
   "execution_count": 17,
   "id": "0215653f",
   "metadata": {},
   "outputs": [
    {
     "data": {
      "text/plain": [
       "1643"
      ]
     },
     "execution_count": 17,
     "metadata": {},
     "output_type": "execute_result"
    },
    {
     "data": {
      "text/plain": [
       "87"
      ]
     },
     "execution_count": 17,
     "metadata": {},
     "output_type": "execute_result"
    },
    {
     "data": {
      "text/plain": [
       "((1643,), (87,), (102,))"
      ]
     },
     "execution_count": 17,
     "metadata": {},
     "output_type": "execute_result"
    },
    {
     "data": {
      "text/plain": [
       "array([26.28, 28.56, 28.31, 28.02, 28.52, 28.57, 28.94, 29.34, 28.7 ,\n",
       "       27.  , 26.98, 26.5 , 26.41, 27.11, 27.43, 27.62, 27.64, 28.13,\n",
       "       28.45, 27.53, 26.91, 26.88, 26.33, 26.51, 25.51, 24.82, 25.59,\n",
       "       26.11, 25.96, 26.18, 25.89, 25.16, 24.25, 25.01, 25.93, 26.59,\n",
       "       26.84, 27.17, 27.31, 27.28, 27.36, 27.69, 28.38, 29.26, 28.73,\n",
       "       28.7 , 29.13, 29.58, 29.49, 29.88, 29.63, 29.38, 28.41, 28.41,\n",
       "       27.45, 26.76, 28.6 , 28.91, 28.8 , 28.88, 27.83, 27.9 , 27.26,\n",
       "       26.24, 26.03, 26.22, 26.65, 26.62, 26.45, 26.54, 27.16, 26.97,\n",
       "       26.4 , 26.05, 26.76, 27.5 , 28.07, 29.33, 28.53, 29.4 , 29.29,\n",
       "       30.09, 27.61, 28.61, 29.01, 29.22, 29.57, 29.15, 29.69, 29.58,\n",
       "       29.36, 28.98, 29.74, 29.11, 28.04, 28.37, 28.16, 28.29, 28.6 ,\n",
       "       28.87, 28.59, 28.51])"
      ]
     },
     "execution_count": 17,
     "metadata": {},
     "output_type": "execute_result"
    },
    {
     "data": {
      "text/plain": [
       "(102,)"
      ]
     },
     "execution_count": 17,
     "metadata": {},
     "output_type": "execute_result"
    }
   ],
   "source": [
    "import numpy as np\n",
    "\n",
    "tam_treino = int(len(valores) * 0.95)\n",
    "tam_teste = len(valores) - tam_treino\n",
    "tam_treino\n",
    "tam_teste\n",
    "\n",
    "dados_treino, dados_teste = np.array(valores[0:tam_treino]), np.array(valores[tam_treino - dias_input:])\n",
    "dados_valid = np.array(valores[tam_treino:])\n",
    "\n",
    "dados_treino.shape,  dados_valid.shape, dados_teste.shape\n",
    "dados_teste\n",
    "dados_teste.shape\n",
    "\n"
   ]
  },
  {
   "cell_type": "markdown",
   "id": "721ac468",
   "metadata": {},
   "source": [
    "# \"plotando\" o gráfico com séries de treino e input"
   ]
  },
  {
   "cell_type": "code",
   "execution_count": null,
   "id": "8f9b39f0",
   "metadata": {},
   "outputs": [],
   "source": [
    "import matplotlib.pyplot as plt\n",
    "\n",
    "intervalo = 90\n",
    "\n",
    "\n",
    "plt.figure(figsize = (18,9))\n",
    "plt.plot(df_amz['PREULT'].loc[0:tam_treino], color = 'blue', label = 'treino')\n",
    "plt.plot(df_amz['PREULT'].loc[tam_treino:], color = 'red', label = 'teste')\n",
    "plt.xticks(range(0,len(df_amz),intervalo), df_amz['DTPREG'].loc[::intervalo], rotation=45)\n",
    "plt.xlabel('Datas', fontsize=18)\n",
    "plt.ylabel('Preço Final', fontsize=18)\n",
    "plt.title(\"Histórico de Preço\", fontsize=30)\n",
    "plt.legend()\n",
    "plt.show()\n",
    "\n",
    "\n"
   ]
  },
  {
   "cell_type": "markdown",
   "id": "e3551c00",
   "metadata": {},
   "source": [
    "# Normalização dos dados\n"
   ]
  },
  {
   "cell_type": "code",
   "execution_count": 18,
   "id": "ae2337e0",
   "metadata": {},
   "outputs": [
    {
     "data": {
      "text/plain": [
       "(1643, 1)"
      ]
     },
     "execution_count": 18,
     "metadata": {},
     "output_type": "execute_result"
    },
    {
     "data": {
      "text/plain": [
       "(102, 1)"
      ]
     },
     "execution_count": 18,
     "metadata": {},
     "output_type": "execute_result"
    },
    {
     "data": {
      "text/plain": [
       "(87, 1)"
      ]
     },
     "execution_count": 18,
     "metadata": {},
     "output_type": "execute_result"
    },
    {
     "data": {
      "text/plain": [
       "(102, 1)"
      ]
     },
     "execution_count": 18,
     "metadata": {},
     "output_type": "execute_result"
    },
    {
     "data": {
      "text/plain": [
       "array([[0.82241251],\n",
       "       [0.9072971 ],\n",
       "       [0.89798958],\n",
       "       [0.88719285],\n",
       "       [0.90580789],\n",
       "       [0.9076694 ],\n",
       "       [0.92144453],\n",
       "       [0.93633656],\n",
       "       [0.91250931],\n",
       "       [0.84921817],\n",
       "       [0.84847357],\n",
       "       [0.83060313],\n",
       "       [0.82725242],\n",
       "       [0.85331348],\n",
       "       [0.8652271 ],\n",
       "       [0.87230082],\n",
       "       [0.87304542],\n",
       "       [0.89128816],\n",
       "       [0.90320179],\n",
       "       [0.86895011],\n",
       "       [0.84586746],\n",
       "       [0.84475056],\n",
       "       [0.82427401],\n",
       "       [0.83097543],\n",
       "       [0.79374535],\n",
       "       [0.76805659],\n",
       "       [0.79672375],\n",
       "       [0.8160834 ],\n",
       "       [0.81049888],\n",
       "       [0.8186895 ],\n",
       "       [0.80789278],\n",
       "       [0.78071482],\n",
       "       [0.74683544],\n",
       "       [0.77513031],\n",
       "       [0.80938198],\n",
       "       [0.83395383],\n",
       "       [0.84326136],\n",
       "       [0.85554728],\n",
       "       [0.86075949],\n",
       "       [0.85964259],\n",
       "       [0.862621  ],\n",
       "       [0.87490692],\n",
       "       [0.90059568],\n",
       "       [0.93335815],\n",
       "       [0.91362621],\n",
       "       [0.91250931],\n",
       "       [0.92851824],\n",
       "       [0.94527178],\n",
       "       [0.94192107],\n",
       "       [0.9564408 ],\n",
       "       [0.94713328],\n",
       "       [0.93782576],\n",
       "       [0.90171258],\n",
       "       [0.90171258],\n",
       "       [0.86597171],\n",
       "       [0.84028295],\n",
       "       [0.9087863 ],\n",
       "       [0.92032762],\n",
       "       [0.91623232],\n",
       "       [0.91921072],\n",
       "       [0.88011914],\n",
       "       [0.88272524],\n",
       "       [0.85889799],\n",
       "       [0.82092331],\n",
       "       [0.81310499],\n",
       "       [0.8201787 ],\n",
       "       [0.83618764],\n",
       "       [0.83507074],\n",
       "       [0.82874162],\n",
       "       [0.83209233],\n",
       "       [0.85517498],\n",
       "       [0.84810127],\n",
       "       [0.82688012],\n",
       "       [0.81384959],\n",
       "       [0.84028295],\n",
       "       [0.86783321],\n",
       "       [0.88905436],\n",
       "       [0.93596426],\n",
       "       [0.90618019],\n",
       "       [0.93857036],\n",
       "       [0.93447506],\n",
       "       [0.96425912],\n",
       "       [0.87192852],\n",
       "       [0.9091586 ],\n",
       "       [0.92405063],\n",
       "       [0.93186895],\n",
       "       [0.94489948],\n",
       "       [0.92926284],\n",
       "       [0.94936709],\n",
       "       [0.94527178],\n",
       "       [0.93708116],\n",
       "       [0.92293373],\n",
       "       [0.95122859],\n",
       "       [0.92777364],\n",
       "       [0.88793745],\n",
       "       [0.90022338],\n",
       "       [0.89240506],\n",
       "       [0.89724497],\n",
       "       [0.9087863 ],\n",
       "       [0.91883842],\n",
       "       [0.908414  ],\n",
       "       [0.90543559]])"
      ]
     },
     "execution_count": 18,
     "metadata": {},
     "output_type": "execute_result"
    }
   ],
   "source": [
    "from sklearn.preprocessing import MinMaxScaler\n",
    "scaler = MinMaxScaler(feature_range=(0,1))\n",
    "dados_treino_z = scaler.fit_transform(np.array(dados_treino).reshape(-1,1))\n",
    "dados_teste_z = scaler.transform(np.array(dados_teste).reshape(-1,1))\n",
    "dados_valid_z = scaler.transform(np.array(dados_valid).reshape(-1,1))\n",
    "\n",
    "dados_treino_z.shape\n",
    "dados_teste_z.shape\n",
    "dados_valid_z.shape\n",
    "\n",
    "dados_teste_z.shape\n",
    "dados_teste_z\n"
   ]
  },
  {
   "cell_type": "markdown",
   "id": "552fce0f",
   "metadata": {},
   "source": [
    "# Gerando os dados \"input\" e \"target\" necessários para treinar o modelo"
   ]
  },
  {
   "cell_type": "code",
   "execution_count": 19,
   "id": "0182b13e",
   "metadata": {},
   "outputs": [
    {
     "data": {
      "text/plain": [
       "(1628, 15, 1)"
      ]
     },
     "execution_count": 19,
     "metadata": {},
     "output_type": "execute_result"
    },
    {
     "data": {
      "text/plain": [
       "(1628, 1)"
      ]
     },
     "execution_count": 19,
     "metadata": {},
     "output_type": "execute_result"
    },
    {
     "data": {
      "text/plain": [
       "(87, 15, 1)"
      ]
     },
     "execution_count": 19,
     "metadata": {},
     "output_type": "execute_result"
    },
    {
     "data": {
      "text/plain": [
       "(72, 15, 1)"
      ]
     },
     "execution_count": 19,
     "metadata": {},
     "output_type": "execute_result"
    },
    {
     "data": {
      "text/plain": [
       "(72, 1)"
      ]
     },
     "execution_count": 19,
     "metadata": {},
     "output_type": "execute_result"
    }
   ],
   "source": [
    "#treino\n",
    "input_treino, target_treino = [], []\n",
    "for i in range(dias_input, len(dados_treino_z)):\n",
    "    input_treino.append(dados_treino_z[i-dias_input:i])\n",
    "    target_treino.append(dados_treino_z[i])\n",
    "\n",
    "\n",
    "#teste\n",
    "input_teste = []\n",
    "for i in range(dias_input,len(dados_teste_z)):\n",
    "    input_teste.append(dados_teste_z[i-dias_input:i]) \n",
    "    \n",
    "#val\n",
    "input_valid, target_valid = [], []\n",
    "for i in range(dias_input, len(dados_valid_z)):\n",
    "    input_valid.append(dados_valid_z[i-dias_input:i])\n",
    "    target_valid.append(dados_valid_z[i])\n",
    "\n",
    "#converter tudo pra matriz numpy\n",
    "input_treino = np.array(input_treino)\n",
    "target_treino = np.array(target_treino)\n",
    "input_teste = np.array(input_teste)\n",
    "input_valid = np.array(input_valid)\n",
    "target_valid = np.array(target_valid)\n",
    "\n",
    "\n",
    "input_treino.shape\n",
    "target_treino.shape\n",
    "input_teste.shape\n",
    "input_valid.shape\n",
    "target_valid.shape\n",
    "\n",
    "    "
   ]
  },
  {
   "cell_type": "markdown",
   "id": "4e769924",
   "metadata": {},
   "source": [
    "   # Definição dos hiper parâmetros do modelo   "
   ]
  },
  {
   "cell_type": "code",
   "execution_count": 20,
   "id": "e33f40fb",
   "metadata": {},
   "outputs": [
    {
     "name": "stdout",
     "output_type": "stream",
     "text": [
      "Model: \"sequential\"\n",
      "_________________________________________________________________\n",
      " Layer (type)                Output Shape              Param #   \n",
      "=================================================================\n",
      " lstm (LSTM)                 (None, 15, 100)           40800     \n",
      "                                                                 \n",
      " lstm_1 (LSTM)               (None, 100)               80400     \n",
      "                                                                 \n",
      " dense (Dense)               (None, 1)                 101       \n",
      "                                                                 \n",
      "=================================================================\n",
      "Total params: 121,301\n",
      "Trainable params: 121,301\n",
      "Non-trainable params: 0\n",
      "_________________________________________________________________\n"
     ]
    }
   ],
   "source": [
    "import tensorflow as tf\n",
    "from tensorflow.keras.models import Sequential\n",
    "from tensorflow.keras.layers import Dense, Dropout, LSTM\n",
    "from tensorflow.keras.optimizers import SGD\n",
    "\n",
    "modelo = Sequential()\n",
    "modelo.add(LSTM(100, return_sequences=True, input_shape=(dias_input, 1)))\n",
    "#model.add(Dropout(0.3))\n",
    "modelo.add(LSTM(100, return_sequences=False, input_shape=(dias_input, 1)))\n",
    "#model.add(Dropout(0.3))\n",
    "modelo.add(Dense(1))\n",
    "modelo.compile(loss='mse', optimizer='adam')\n",
    "\n",
    "modelo.summary()\n",
    "\n"
   ]
  },
  {
   "cell_type": "markdown",
   "id": "1cb81b14",
   "metadata": {},
   "source": [
    "# Realizando o treinamento do modelo"
   ]
  },
  {
   "cell_type": "code",
   "execution_count": 21,
   "id": "837f6c08",
   "metadata": {},
   "outputs": [
    {
     "name": "stdout",
     "output_type": "stream",
     "text": [
      "Epoch 1/3\n",
      "814/814 [==============================] - 20s 18ms/step - loss: 0.0047 - val_loss: 0.0013\n",
      "Epoch 2/3\n",
      "814/814 [==============================] - 13s 16ms/step - loss: 0.0016 - val_loss: 0.0010\n",
      "Epoch 3/3\n",
      "814/814 [==============================] - 13s 16ms/step - loss: 9.5609e-04 - val_loss: 8.4048e-04\n"
     ]
    }
   ],
   "source": [
    "hist_modelo = modelo.fit(input_treino, target_treino, validation_data = (input_valid, target_valid), epochs=3, batch_size=2)\n",
    "\n"
   ]
  },
  {
   "cell_type": "markdown",
   "id": "558df081",
   "metadata": {},
   "source": [
    "# Análise do histórico de treinamento"
   ]
  },
  {
   "cell_type": "code",
   "execution_count": 22,
   "id": "0a581706",
   "metadata": {},
   "outputs": [
    {
     "data": {
      "text/plain": [
       "[<matplotlib.lines.Line2D at 0x2257d192b20>]"
      ]
     },
     "execution_count": 22,
     "metadata": {},
     "output_type": "execute_result"
    },
    {
     "data": {
      "text/plain": [
       "[<matplotlib.lines.Line2D at 0x2257d192f70>]"
      ]
     },
     "execution_count": 22,
     "metadata": {},
     "output_type": "execute_result"
    },
    {
     "data": {
      "text/plain": [
       "<matplotlib.legend.Legend at 0x2257d192dc0>"
      ]
     },
     "execution_count": 22,
     "metadata": {},
     "output_type": "execute_result"
    },
    {
     "data": {
      "image/png": "[encoded data removed]",
      "text/plain": [
       "<Figure size 640x480 with 1 Axes>"
      ]
     },
     "metadata": {},
     "output_type": "display_data"
    }
   ],
   "source": [
    "import matplotlib.pyplot as plt\n",
    "\n",
    "plt.plot(hist_modelo.history[\"loss\"], label='loss')\n",
    "plt.plot(hist_modelo.history[\"val_loss\"], label='val_loss')\n",
    "plt.legend()"
   ]
  },
  {
   "cell_type": "markdown",
   "id": "fb876e44",
   "metadata": {},
   "source": [
    "# Realização da predição dos dados de teste"
   ]
  },
  {
   "cell_type": "code",
   "execution_count": 23,
   "id": "eac863da",
   "metadata": {},
   "outputs": [
    {
     "name": "stdout",
     "output_type": "stream",
     "text": [
      "3/3 [==============================] - 1s 13ms/step\n"
     ]
    },
    {
     "data": {
      "text/plain": [
       "(87, 1)"
      ]
     },
     "execution_count": 23,
     "metadata": {},
     "output_type": "execute_result"
    },
    {
     "data": {
      "text/plain": [
       "(87, 15, 1)"
      ]
     },
     "execution_count": 23,
     "metadata": {},
     "output_type": "execute_result"
    },
    {
     "data": {
      "text/plain": [
       "(102, 1)"
      ]
     },
     "execution_count": 23,
     "metadata": {},
     "output_type": "execute_result"
    },
    {
     "data": {
      "text/plain": [
       "array([[0.84565604],\n",
       "       [0.86466956],\n",
       "       [0.87545663],\n",
       "       [0.887162  ],\n",
       "       [0.8985603 ],\n",
       "       [0.88744485],\n",
       "       [0.8628777 ],\n",
       "       [0.84378433],\n",
       "       [0.8250323 ],\n",
       "       [0.8184917 ],\n",
       "       [0.8024707 ],\n",
       "       [0.7801848 ],\n",
       "       [0.7793232 ],\n",
       "       [0.79487824],\n",
       "       [0.8074777 ],\n",
       "       [0.8181679 ],\n",
       "       [0.8184283 ],\n",
       "       [0.8024589 ],\n",
       "       [0.7725307 ],\n",
       "       [0.7633363 ],\n",
       "       [0.77970254],\n",
       "       [0.8092259 ],\n",
       "       [0.8353611 ],\n",
       "       [0.85481775],\n",
       "       [0.8650632 ],\n",
       "       [0.8661406 ],\n",
       "       [0.8639723 ],\n",
       "       [0.86634296],\n",
       "       [0.8805126 ],\n",
       "       [0.9074142 ],\n",
       "       [0.91654074],\n",
       "       [0.9153137 ],\n",
       "       [0.9181784 ],\n",
       "       [0.92829233],\n",
       "       [0.93399847],\n",
       "       [0.94268817],\n",
       "       [0.9433708 ],\n",
       "       [0.93662107],\n",
       "       [0.91298664],\n",
       "       [0.8952036 ],\n",
       "       [0.87044734],\n",
       "       [0.8438903 ],\n",
       "       [0.861749  ],\n",
       "       [0.8919407 ],\n",
       "       [0.9123672 ],\n",
       "       [0.9224647 ],\n",
       "       [0.90517604],\n",
       "       [0.88770634],\n",
       "       [0.86561275],\n",
       "       [0.83437586],\n",
       "       [0.81119764],\n",
       "       [0.8046293 ],\n",
       "       [0.81466615],\n",
       "       [0.82649547],\n",
       "       [0.831831  ],\n",
       "       [0.834668  ],\n",
       "       [0.8458344 ],\n",
       "       [0.8506961 ],\n",
       "       [0.8413265 ],\n",
       "       [0.8251503 ],\n",
       "       [0.8255092 ],\n",
       "       [0.84339297],\n",
       "       [0.86922914],\n",
       "       [0.90876806],\n",
       "       [0.9201539 ],\n",
       "       [0.9324435 ],\n",
       "       [0.9353329 ],\n",
       "       [0.9471728 ],\n",
       "       [0.91035795],\n",
       "       [0.89365214],\n",
       "       [0.8965683 ],\n",
       "       [0.9088363 ],\n",
       "       [0.9259818 ],\n",
       "       [0.9299604 ],\n",
       "       [0.938058  ],\n",
       "       [0.94106615],\n",
       "       [0.9368595 ],\n",
       "       [0.92512745],\n",
       "       [0.9298272 ],\n",
       "       [0.92589045],\n",
       "       [0.90250945],\n",
       "       [0.89011914],\n",
       "       [0.8828671 ],\n",
       "       [0.88387525],\n",
       "       [0.89314044],\n",
       "       [0.90628517],\n",
       "       [0.9100431 ]], dtype=float32)"
      ]
     },
     "execution_count": 23,
     "metadata": {},
     "output_type": "execute_result"
    }
   ],
   "source": [
    "resultado_z = modelo.predict(input_teste)\n",
    "\n",
    "\n",
    "\n",
    "resultado_z.shape\n",
    "input_teste.shape\n",
    "dados_teste_z.shape\n",
    "resultado_z"
   ]
  },
  {
   "cell_type": "markdown",
   "id": "dbb5111d",
   "metadata": {},
   "source": [
    "# Análise dos resultados"
   ]
  },
  {
   "cell_type": "code",
   "execution_count": 24,
   "id": "cd15b145",
   "metadata": {},
   "outputs": [
    {
     "data": {
      "text/plain": [
       "(87, 1)"
      ]
     },
     "execution_count": 24,
     "metadata": {},
     "output_type": "execute_result"
    },
    {
     "data": {
      "text/plain": [
       "(88,)"
      ]
     },
     "execution_count": 24,
     "metadata": {},
     "output_type": "execute_result"
    },
    {
     "data": {
      "text/plain": [
       "(102,)"
      ]
     },
     "execution_count": 24,
     "metadata": {},
     "output_type": "execute_result"
    },
    {
     "data": {
      "text/plain": [
       "(102, 1)"
      ]
     },
     "execution_count": 24,
     "metadata": {},
     "output_type": "execute_result"
    }
   ],
   "source": [
    "resultado = scaler.inverse_transform(resultado_z)\n",
    "real = scaler.inverse_transform(dados_teste_z)\n",
    "real = dados_teste[dias_input-1:]\n",
    "\n",
    "\n",
    "resultado.shape\n",
    "real.shape\n",
    "dados_teste.shape\n",
    "dados_teste_z.shape"
   ]
  },
  {
   "cell_type": "code",
   "execution_count": 25,
   "id": "04a3d5ac",
   "metadata": {},
   "outputs": [
    {
     "data": {
      "text/plain": [
       "<Figure size 1800x900 with 0 Axes>"
      ]
     },
     "execution_count": 25,
     "metadata": {},
     "output_type": "execute_result"
    },
    {
     "data": {
      "text/plain": [
       "[<matplotlib.lines.Line2D at 0x2258dab0d90>]"
      ]
     },
     "execution_count": 25,
     "metadata": {},
     "output_type": "execute_result"
    },
    {
     "data": {
      "text/plain": [
       "[<matplotlib.lines.Line2D at 0x2258dac4070>]"
      ]
     },
     "execution_count": 25,
     "metadata": {},
     "output_type": "execute_result"
    },
    {
     "data": {
      "text/plain": [
       "([<matplotlib.axis.XTick at 0x225033f09d0>,\n",
       "  <matplotlib.axis.XTick at 0x225033f09a0>,\n",
       "  <matplotlib.axis.XTick at 0x225033e6fd0>,\n",
       "  <matplotlib.axis.XTick at 0x2258dac4a60>,\n",
       "  <matplotlib.axis.XTick at 0x2258dae40d0>,\n",
       "  <matplotlib.axis.XTick at 0x2258dae4880>,\n",
       "  <matplotlib.axis.XTick at 0x2258dac4a30>,\n",
       "  <matplotlib.axis.XTick at 0x2258daeb040>,\n",
       "  <matplotlib.axis.XTick at 0x2258daeb640>,\n",
       "  <matplotlib.axis.XTick at 0x2258daebd90>,\n",
       "  <matplotlib.axis.XTick at 0x2258dac6520>,\n",
       "  <matplotlib.axis.XTick at 0x2258dac6c70>,\n",
       "  <matplotlib.axis.XTick at 0x225684b5400>,\n",
       "  <matplotlib.axis.XTick at 0x2258dac6580>,\n",
       "  <matplotlib.axis.XTick at 0x2258dae4fa0>,\n",
       "  <matplotlib.axis.XTick at 0x225684b57f0>,\n",
       "  <matplotlib.axis.XTick at 0x225684900a0>,\n",
       "  <matplotlib.axis.XTick at 0x225684906d0>],\n",
       " [Text(0, 0, '20210825'),\n",
       "  Text(5, 0, '20210901'),\n",
       "  Text(10, 0, '20210909'),\n",
       "  Text(15, 0, '20210916'),\n",
       "  Text(20, 0, '20210923'),\n",
       "  Text(25, 0, '20210930'),\n",
       "  Text(30, 0, '20211007'),\n",
       "  Text(35, 0, '20211015'),\n",
       "  Text(40, 0, '20211022'),\n",
       "  Text(45, 0, '20211029'),\n",
       "  Text(50, 0, '20211108'),\n",
       "  Text(55, 0, '20211116'),\n",
       "  Text(60, 0, '20211123'),\n",
       "  Text(65, 0, '20211130'),\n",
       "  Text(70, 0, '20211207'),\n",
       "  Text(75, 0, '20211214'),\n",
       "  Text(80, 0, '20211221'),\n",
       "  Text(85, 0, '20211229')])"
      ]
     },
     "execution_count": 25,
     "metadata": {},
     "output_type": "execute_result"
    },
    {
     "data": {
      "text/plain": [
       "Text(0.5, 0, 'Datas')"
      ]
     },
     "execution_count": 25,
     "metadata": {},
     "output_type": "execute_result"
    },
    {
     "data": {
      "text/plain": [
       "Text(0, 0.5, 'Preço Final')"
      ]
     },
     "execution_count": 25,
     "metadata": {},
     "output_type": "execute_result"
    },
    {
     "data": {
      "text/plain": [
       "Text(0.5, 1.0, 'Projeção de Preço Petrobras')"
      ]
     },
     "execution_count": 25,
     "metadata": {},
     "output_type": "execute_result"
    },
    {
     "data": {
      "text/plain": [
       "<matplotlib.legend.Legend at 0x225033f06a0>"
      ]
     },
     "execution_count": 25,
     "metadata": {},
     "output_type": "execute_result"
    },
    {
     "data": {
      "image/png": "[encoded data removed]",
      "text/plain": [
       "<Figure size 1800x900 with 1 Axes>"
      ]
     },
     "metadata": {},
     "output_type": "display_data"
    }
   ],
   "source": [
    "\n",
    "\n",
    "\n",
    "plt.figure(figsize = (18,9))\n",
    "#plt.plot(dados_teste[:len(dados_teste)-dias_input], color = 'green', label = 'real')\n",
    "plt.plot(real, color = 'green', label = 'real')\n",
    "plt.plot(resultado, color = 'yellow', label = 'previsão')\n",
    "#plt.xticks(range(0, len(dados_teste), 50), df_amz['Date'].iloc[- len(real)::50], rotation=45)\n",
    "plt.xticks(range(0,len(input_teste),5), df_amz['DTPREG'].iloc[-len(input_teste)::5], rotation=45)\n",
    "plt.xlabel('Datas', fontsize=18)\n",
    "plt.ylabel('Preço Final', fontsize=18)\n",
    "plt.title(\"Projeção de Preço Petrobras\", fontsize=30)\n",
    "plt.legend()\n",
    "plt.show()"
   ]
  },
  {
   "cell_type": "markdown",
   "id": "593780ea",
   "metadata": {},
   "source": [
    "# gerando as informações para predição das acões da Amazon"
   ]
  },
  {
   "cell_type": "code",
   "execution_count": 26,
   "id": "a476574d",
   "metadata": {},
   "outputs": [],
   "source": [
    "df_amz['PREULT']=df_amz['PREULT']/100000"
   ]
  },
  {
   "cell_type": "code",
   "execution_count": 27,
   "id": "de5c0f7d",
   "metadata": {},
   "outputs": [
    {
     "data": {
      "text/plain": [
       "0       416.46\n",
       "1       412.45\n",
       "2       401.06\n",
       "3       403.68\n",
       "4       406.56\n",
       "         ...  \n",
       "1345    124.06\n",
       "1346    122.69\n",
       "1347    122.46\n",
       "1348    122.92\n",
       "1349    120.01\n",
       "Name: PREULT, Length: 1350, dtype: float64"
      ]
     },
     "execution_count": 27,
     "metadata": {},
     "output_type": "execute_result"
    },
    {
     "data": {
      "text/plain": [
       "0       416.46\n",
       "1       412.45\n",
       "2       401.06\n",
       "3       403.68\n",
       "4       406.56\n",
       "         ...  \n",
       "1345    124.06\n",
       "1346    122.69\n",
       "1347    122.46\n",
       "1348    122.92\n",
       "1349    120.01\n",
       "Name: PREULT, Length: 1350, dtype: float64"
      ]
     },
     "execution_count": 27,
     "metadata": {},
     "output_type": "execute_result"
    }
   ],
   "source": [
    "valores = df_amz['PREULT']\n",
    "df_amz['PREULT']\n",
    "valores"
   ]
  },
  {
   "cell_type": "code",
   "execution_count": 30,
   "id": "39138cdc",
   "metadata": {},
   "outputs": [
    {
     "data": {
      "text/plain": [
       "0       416.46\n",
       "1       412.45\n",
       "2       401.06\n",
       "3       403.68\n",
       "4       406.56\n",
       "         ...  \n",
       "1345    124.06\n",
       "1346    122.69\n",
       "1347    122.46\n",
       "1348    122.92\n",
       "1349    120.01\n",
       "Name: PREULT, Length: 1350, dtype: float64"
      ]
     },
     "execution_count": 30,
     "metadata": {},
     "output_type": "execute_result"
    },
    {
     "name": "stdout",
     "output_type": "stream",
     "text": [
      "42/42 [==============================] - 1s 12ms/step\n"
     ]
    },
    {
     "data": {
      "text/plain": [
       "array([[182.78415 ],\n",
       "       [181.42801 ],\n",
       "       [181.60603 ],\n",
       "       ...,\n",
       "       [100.804565],\n",
       "       [100.316475],\n",
       "       [100.446915]], dtype=float32)"
      ]
     },
     "execution_count": 30,
     "metadata": {},
     "output_type": "execute_result"
    }
   ],
   "source": [
    "valores = df_amz['PREULT']\n",
    "df_amz['PREULT']\n",
    "\n",
    "\n",
    "\n",
    "dados_teste = np.array(valores)\n",
    "dados_teste_z = scaler.transform(np.array(dados_teste).reshape(-1,1))\n",
    "\n",
    "#teste\n",
    "input_teste = []\n",
    "for i in range(dias_input,len(dados_teste_z)):\n",
    "    input_teste.append(dados_teste_z[i-dias_input:i]) \n",
    "input_teste = np.array(input_teste)\n",
    "\n",
    "resultado_z = modelo.predict(input_teste)\n",
    "\n",
    "resultado = scaler.inverse_transform(resultado_z)\n",
    "real = scaler.inverse_transform(dados_teste_z)\n",
    "\n",
    "real = dados_teste[dias_input-1:]\n",
    "resultado\n",
    "\n",
    "\n"
   ]
  },
  {
   "cell_type": "code",
   "execution_count": 29,
   "id": "ffe1950c",
   "metadata": {},
   "outputs": [
    {
     "data": {
      "text/plain": [
       "<Figure size 1800x900 with 0 Axes>"
      ]
     },
     "execution_count": 29,
     "metadata": {},
     "output_type": "execute_result"
    },
    {
     "data": {
      "text/plain": [
       "[<matplotlib.lines.Line2D at 0x22563e553d0>]"
      ]
     },
     "execution_count": 29,
     "metadata": {},
     "output_type": "execute_result"
    },
    {
     "data": {
      "text/plain": [
       "[<matplotlib.lines.Line2D at 0x22563e55670>]"
      ]
     },
     "execution_count": 29,
     "metadata": {},
     "output_type": "execute_result"
    },
    {
     "data": {
      "text/plain": [
       "([<matplotlib.axis.XTick at 0x22565936160>,\n",
       "  <matplotlib.axis.XTick at 0x22565936130>,\n",
       "  <matplotlib.axis.XTick at 0x22565947820>,\n",
       "  <matplotlib.axis.XTick at 0x22563e51100>,\n",
       "  <matplotlib.axis.XTick at 0x22563e51850>,\n",
       "  <matplotlib.axis.XTick at 0x22563e51e80>,\n",
       "  <matplotlib.axis.XTick at 0x22563e75190>,\n",
       "  <matplotlib.axis.XTick at 0x22563e758e0>,\n",
       "  <matplotlib.axis.XTick at 0x22563e6b070>,\n",
       "  <matplotlib.axis.XTick at 0x22563e6b7c0>,\n",
       "  <matplotlib.axis.XTick at 0x22563e5d070>,\n",
       "  <matplotlib.axis.XTick at 0x22563e6bc70>,\n",
       "  <matplotlib.axis.XTick at 0x22563e75df0>,\n",
       "  <matplotlib.axis.XTick at 0x22563e5d7c0>,\n",
       "  <matplotlib.axis.XTick at 0x22563e5dc40>,\n",
       "  <matplotlib.axis.XTick at 0x225262063d0>,\n",
       "  <matplotlib.axis.XTick at 0x22526206b20>,\n",
       "  <matplotlib.axis.XTick at 0x225261f82b0>,\n",
       "  <matplotlib.axis.XTick at 0x225262068b0>,\n",
       "  <matplotlib.axis.XTick at 0x22563e5d880>,\n",
       "  <matplotlib.axis.XTick at 0x225261f8280>,\n",
       "  <matplotlib.axis.XTick at 0x225261fb070>,\n",
       "  <matplotlib.axis.XTick at 0x225261fb6a0>],\n",
       " [Text(0, 0, '20150127'),\n",
       "  Text(60, 0, '20150626'),\n",
       "  Text(120, 0, '20151015'),\n",
       "  Text(180, 0, '20160211'),\n",
       "  Text(240, 0, '20160525'),\n",
       "  Text(300, 0, '20161020'),\n",
       "  Text(360, 0, '20170322'),\n",
       "  Text(420, 0, '20170815'),\n",
       "  Text(480, 0, '20180122'),\n",
       "  Text(540, 0, '20180515'),\n",
       "  Text(600, 0, '20180829'),\n",
       "  Text(660, 0, '20181207'),\n",
       "  Text(720, 0, '20190418'),\n",
       "  Text(780, 0, '20190911'),\n",
       "  Text(840, 0, '20191220'),\n",
       "  Text(900, 0, '20200330'),\n",
       "  Text(960, 0, '20200626'),\n",
       "  Text(1020, 0, '20200922'),\n",
       "  Text(1080, 0, '20201217'),\n",
       "  Text(1140, 0, '20210322'),\n",
       "  Text(1200, 0, '20210617'),\n",
       "  Text(1260, 0, '20210913'),\n",
       "  Text(1320, 0, '20211209')])"
      ]
     },
     "execution_count": 29,
     "metadata": {},
     "output_type": "execute_result"
    },
    {
     "data": {
      "text/plain": [
       "Text(0.5, 0, 'Datas')"
      ]
     },
     "execution_count": 29,
     "metadata": {},
     "output_type": "execute_result"
    },
    {
     "data": {
      "text/plain": [
       "Text(0, 0.5, 'Preço Final')"
      ]
     },
     "execution_count": 29,
     "metadata": {},
     "output_type": "execute_result"
    },
    {
     "data": {
      "text/plain": [
       "Text(0.5, 1.0, 'Projeção de Preço')"
      ]
     },
     "execution_count": 29,
     "metadata": {},
     "output_type": "execute_result"
    },
    {
     "data": {
      "text/plain": [
       "<matplotlib.legend.Legend at 0x22563e551f0>"
      ]
     },
     "execution_count": 29,
     "metadata": {},
     "output_type": "execute_result"
    },
    {
     "data": {
      "image/png": "[encoded data removed]",
      "text/plain": [
       "<Figure size 1800x900 with 1 Axes>"
      ]
     },
     "metadata": {},
     "output_type": "display_data"
    }
   ],
   "source": [
    "plt.figure(figsize = (18,9))\n",
    "#plt.plot(dados_teste[:len(dados_teste)-dias_input], color = 'green', label = 'real')\n",
    "plt.plot(real, color = 'green', label = 'real')\n",
    "plt.plot(resultado, color = 'yellow', label = 'previsão')\n",
    "#plt.xticks(range(0, len(dados_teste), 50), df_amz['Date'].iloc[- len(real)::50], rotation=45)\n",
    "plt.xticks(range(0,len(input_teste),60), df_amz['DTPREG'].iloc[-len(input_teste)::60], rotation=45)\n",
    "plt.xlabel('Datas', fontsize=18)\n",
    "plt.ylabel('Preço Final', fontsize=18)\n",
    "plt.title(\"Projeção de Preço\", fontsize=30)\n",
    "plt.legend()\n",
    "plt.show()"
   ]
  },
  {
   "cell_type": "markdown",
   "id": "e5c786e3",
   "metadata": {},
   "source": [
    "# realizando a predição dia a dia para atualizar os inputs"
   ]
  },
  {
   "cell_type": "code",
   "execution_count": null,
   "id": "22cd030d",
   "metadata": {},
   "outputs": [],
   "source": [
    "input_pred = input_teste[0:1].copy() #pega o primeiro dia do conjunto de teste\n",
    "predicoes = []\n",
    "for i in range(len(dados_teste)):\n",
    "    \n",
    "    resultado = modelo.predict(input_pred)\n",
    "    predicoes.append(resultado[0, 0])\n",
    "    \n",
    "    #remove primeiro preço da sequência\n",
    "    temp = np.delete(input_pred[0], 0)\n",
    "\n",
    "    #insere último preço da sequência\n",
    "    temp = np.append(temp, resultado)\n",
    "    \n",
    "    #recoloca no formato tensorflow\n",
    "    input_pred[0] = np.reshape(temp, (dias_input, 1))\n",
    "    \n",
    "predicoes = scaler.inverse_transform(np.array(predicoes).reshape(-1, 1))\n",
    "\n",
    "predicoes"
   ]
  },
  {
   "cell_type": "code",
   "execution_count": null,
   "id": "50633d81",
   "metadata": {},
   "outputs": [],
   "source": [
    "len(dados_teste)\n",
    "\n",
    "plt.figure(figsize = (18,9))\n",
    "plt.plot(dados_teste, color = 'green', label = 'real')\n",
    "plt.plot(predicoes, color = 'red', label = 'previsão')\n",
    "plt.xticks(range(0, len(dados_teste), 10), df_amz['DTPREG'].iloc[-len(dados_teste)::10], rotation=45)\n",
    "plt.xlabel('Datas', fontsize=18)\n",
    "plt.ylabel('Preço Final', fontsize=18)\n",
    "plt.title(\"Projeção de Preço\", fontsize=30)\n",
    "plt.legend()\n",
    "plt.show()"
   ]
  }
 ],
 "metadata": {
  "kernelspec": {
   "display_name": "Python 3 (ipykernel)",
   "language": "python",
   "name": "python3"
  },
  "language_info": {
   "codemirror_mode": {
    "name": "ipython",
    "version": 3
   },
   "file_extension": ".py",
   "mimetype": "text/x-python",
   "name": "python",
   "nbconvert_exporter": "python",
   "pygments_lexer": "ipython3",
   "version": "3.9.13"
  }
 },
 "nbformat": 4,
 "nbformat_minor": 5
}
